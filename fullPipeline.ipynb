{
 "cells": [
  {
   "cell_type": "code",
   "execution_count": 2,
   "metadata": {},
   "outputs": [],
   "source": [
    "import jsonlines\n",
    "import os\n",
    "import pandas as pd\n",
    "import pickle\n",
    "import re\n",
    "import json\n",
    "import random\n",
    "\n",
    "def replace_semicolon(text, threshold=10):\n",
    "    '''\n",
    "    Get rid of semicolons.\n",
    "    First split text into fragments between the semicolons. If the fragment \n",
    "    is longer than the threshold, turn the semicolon into a period. O.w treat\n",
    "    it as a comma.\n",
    "    Returns new text\n",
    "    '''\n",
    "    new_text = \"\"\n",
    "    for subset in re.split(';', text):\n",
    "        subset = subset.strip() # Clear off spaces\n",
    "        # Check word count\n",
    "        if len(subset.split()) > threshold:\n",
    "            # Turn first char into uppercase\n",
    "            new_text += \". \" + subset[0].upper() + subset[1:]\n",
    "        else:\n",
    "            # Just append with a comma \n",
    "            new_text += \", \" + subset\n",
    "\n",
    "    return new_text\n",
    "\n",
    "USC_re = re.compile('[Uu]\\.*[Ss]\\.*[Cc]\\.]+')\n",
    "PAREN_re = re.compile('\\([^(]+\\ [^\\(]+\\)')\n",
    "BAD_PUNCT_RE = re.compile(r'([%s])' % re.escape('\"#%&\\*\\+/<=>@[\\]^{|}~_'), re.UNICODE)\n",
    "BULLET_RE = re.compile('\\n[\\ \\t]*`*\\([a-zA-Z0-9]*\\)')\n",
    "DASH_RE = re.compile('--+')\n",
    "WHITESPACE_RE = re.compile('\\s+')\n",
    "EMPTY_SENT_RE = re.compile('[,\\.]\\ *[\\.,]')\n",
    "FIX_START_RE = re.compile('^[^A-Za-z]*')\n",
    "FIX_PERIOD = re.compile('\\.([A-Za-z])')\n",
    "SECTION_HEADER_RE = re.compile('SECTION [0-9]{1,2}\\.|\\nSEC\\.* [0-9]{1,2}\\.|Sec\\.* [0-9]{1,2}\\.')\n",
    "\n",
    "FIX_PERIOD = re.compile('\\.([A-Za-z])')\n",
    "\n",
    "SECTION_HEADER_RE = re.compile('SECTION [0-9]{1,2}\\.|\\nSEC\\.* [0-9]{1,2}\\.|Sec\\.* [0-9]{1,2}\\.')\n",
    "\n",
    "def clean_text(text):\n",
    "    \"\"\"\n",
    "    Borrowed from the FNDS text processing with additional logic added in.\n",
    "    Note: we do not take care of token breaking - assume SPACY's tokenizer\n",
    "    will handle this for us.\n",
    "    \"\"\"\n",
    "\n",
    "    # Indicate section headers, we need them for features\n",
    "    text = SECTION_HEADER_RE.sub('SECTION-HEADER', text)\n",
    "    # For simplicity later, remove '.' from most common acronym\n",
    "    text = text.replace(\"U.S.\", \"US\")\n",
    "    text = text.replace('SEC.', 'Section')\n",
    "    text = text.replace('Sec.', 'Section')\n",
    "    text = USC_re.sub('USC', text)\n",
    "\n",
    "    # Remove parantheticals because they are almost always references to laws \n",
    "    # We could add a special tag, but we just remove for now\n",
    "    # Note we dont get rid of nested parens because that is a complex re\n",
    "    #text = PAREN_re.sub('LAWREF', text)\n",
    "    text = PAREN_re.sub('', text)\n",
    "    \n",
    "\n",
    "    # Get rid of enums as bullets or ` as bullets\n",
    "    text = BULLET_RE.sub(' ',text)\n",
    "    \n",
    "    # Clean html \n",
    "    text = text.replace('&lt;all&gt;', '')\n",
    "\n",
    "    # Remove annoying punctuation, that's not relevant\n",
    "    text = BAD_PUNCT_RE.sub('', text)\n",
    "\n",
    "    # Get rid of long sequences of dashes - these are formating\n",
    "    text = DASH_RE.sub( ' ', text)\n",
    "\n",
    "    # removing newlines, tabs, and extra spaces.\n",
    "    text = WHITESPACE_RE.sub(' ', text)\n",
    "    \n",
    "    # If we ended up with \"empty\" sentences - get rid of them.\n",
    "    text = EMPTY_SENT_RE.sub('.', text)\n",
    "    \n",
    "    # Attempt to create sentences from bullets \n",
    "    text = replace_semicolon(text)\n",
    "    \n",
    "    # Fix weird period issues + start of text weirdness\n",
    "    #text = re.sub('\\.(?=[A-Z])', '  . ', text)\n",
    "    # Get rid of anything thats not a word from the start of the text\n",
    "    text = FIX_START_RE.sub( '', text)\n",
    "    # Sometimes periods get formatted weird, make sure there is a space between periods and start of sent   \n",
    "    text = FIX_PERIOD.sub(\". \\g<1>\", text)\n",
    "\n",
    "    # Fix quotes\n",
    "    text = text.replace('``', '\"')\n",
    "    text = text.replace('\\'\\'', '\"')\n",
    "\n",
    "    # Add special punct back in\n",
    "    text = text.replace('SECTION-HEADER', '<SECTION-HEADER>')\n",
    "\n",
    "    return text"
   ]
  },
  {
   "cell_type": "markdown",
   "metadata": {},
   "source": [
    "## First data set: US train"
   ]
  },
  {
   "cell_type": "code",
   "execution_count": 4,
   "metadata": {},
   "outputs": [],
   "source": [
    "# Read data\n",
    "new_data = pd.read_json('data/us_train_data_final.jsonl', lines=True)"
   ]
  },
  {
   "cell_type": "code",
   "execution_count": 5,
   "metadata": {},
   "outputs": [],
   "source": [
    "# Pre-process\n",
    "new_data['clean_text'] = new_data.text.map(clean_text)        \n",
    "new_data['clean_summary'] = new_data.summary.map(clean_text)\n",
    "new_data['clean_title'] = new_data.title.map(clean_text)"
   ]
  },
  {
   "cell_type": "code",
   "execution_count": 6,
   "metadata": {},
   "outputs": [],
   "source": [
    "# Write resulting dataset\n",
    "new_data.to_json('data/us_train_data_final_clean.jsonl', lines=True, orient='records')"
   ]
  },
  {
   "cell_type": "code",
   "execution_count": 42,
   "metadata": {},
   "outputs": [],
   "source": [
    "# Read back and confirm that everything is fine\n",
    "new_data_clean = pd.read_json('data/us_train_data_final_clean.jsonl', lines=True)"
   ]
  },
  {
   "cell_type": "code",
   "execution_count": 43,
   "metadata": {},
   "outputs": [
    {
     "data": {
      "text/plain": [
       "'<SECTION-HEADER> SHORT TITLE. This Act may be cited as the \"South Utah Valley Electric Conveyance Act\". <SECTION-HEADER> DEFINITIONS. In this Act: District. The term \"District\" means the South Utah Valley Electric Service District, organized under the laws of the State of Utah. Electric distribution system. The term \"Electric Distribution System\" means fixtures, irrigation, or power facilities lands, distribution fixture lands, and shared power poles. Fixtures. The term \"fixtures\" means all power poles, cross-members, wires, insulators and associated fixtures, including substations, that comprise those portions of the Strawberry Valley Project power distribution system that are rated at a voltage of 12.5 kilovolts and were constructed with Strawberry Valley Project revenues. And any such fixtures that are located on Federal lands and interests in lands. Irrigation or power facilities lands. The term \"irrigation or power facilities lands\" means all Federal lands and interests in lands where the fixtures are located on the date of the enactment of this Act and which are encumbered by other Strawberry Valley Project irrigation or power features, including lands underlying the Strawberry Substation. Distribution fixture lands. The term \"distribution fixture lands\" means all Federal lands and interests in lands where the fixtures are located on the date of the enactment of this Act and which are unencumbered by other Strawberry Valley Project features, to a maximum corridor width of 30 feet on each side of the centerline of the fixtures\\' power lines as those lines exist on the date of the enactment of this Act. Shared power poles. The term \"shared power poles\" means poles that comprise those portions of the Strawberry Valley Project Power Transmission System, that are rated at a voltage of 46.0 kilovolts, are owned by the United States, and support fixtures of the Electric Distribution System. Secretary. The term \"Secretary\" means the Secretary of the Interior. <SECTION-HEADER> CONVEYANCE OF ELECTRIC DISTRIBUTION SYSTEM. In General. Inasmuch as the Strawberry Water Users Association conveyed its interest, if any, in the Electric Distribution System to the District by a contract dated April 7, 1986, and in consideration of the District assuming from the United States all liability for administration, operation, maintenance, and replacement of the Electric Distribution System, the Secretary shall, as soon as practicable after the date of the enactment of this Act and in accordance with all applicable law convey and assign to the District without charge or further consideration all of the United States right, title, and interest in and to all fixtures owned by the United States as part of the Electric Distribution System, and the distribution fixture land. License for use in perpetuity of the shared power poles to continue to own, operate, maintain, and replace Electric Distribution Fixtures attached to the shared power poles. And licenses for use and for access in perpetuity for purposes of operation, maintenance, and replacement across, over, and along all project lands and interests in irrigation and power facilities lands where the Electric Distribution System is located on the date of the enactment of this Act that are necessary for other Strawberry Valley Project facilities , including lands underlying the Strawberry Substation. And such corridors where Federal lands and interests in lands are abutting public streets and roads. And can provide access that will facilitate operation, maintenance, and replacement of facilities. Compliance With Environmental Laws. In general. Before conveying lands, interest in lands, and fixtures under subsection (a), the Secretary shall comply with all applicable requirements under the National Environmental Policy Act of 1969, the Endangered Species Act of 1973. And any other law applicable to the land and facilities. Effect. Nothing in this Act modifies or alters any obligations under the National Environmental Policy Act of 1969. Or the Endangered Species Act of 1973 . Power Generation and 46kV Transmission Facilities Excluded. Except for the uses as granted by license in Shared Power Poles under section 3(a)(2), nothing in this Act shall be construed to grant or convey to the District or any other party, any interest in any facilities shared or otherwise that comprise a portion of the Strawberry Valley Project power generation system or the federally owned portions of the 46 kilovolt transmission system which ownership shall remain in the United States. <SECTION-HEADER> EFFECT OF CONVEYANCE. On conveyance of any land or facility under section 3(a)(1) the conveyed and assigned land and facilities shall no longer be part of a Federal reclamation project. The District shall not be entitled to receive any future Bureau or Reclamation benefits with respect to the conveyed and assigned land and facilities, except for benefits that would be available to other non-Bureau of Reclamation facilities. And the United States shall not be liable for damages arising out of any act, omission, or occurrence relating to the land and facilities, including the transaction of April 7, 1986, between the Strawberry Water Users Association and Strawberry Electric Service District. <SECTION-HEADER> REPORT. If a conveyance required under section 3 is not completed by the date that is 1 year after the date of the enactment of this Act, not later than 30 days after that date, the Secretary shall submit to Congress a report that describes the status of the conveyance, describes any obstacles to completing the conveyance, and specifies an anticipated date for completion of the conveyance.'"
      ]
     },
     "execution_count": 43,
     "metadata": {},
     "output_type": "execute_result"
    }
   ],
   "source": [
    "# Example: first row\n",
    "new_data_clean.loc[0,'clean_text']"
   ]
  },
  {
   "cell_type": "code",
   "execution_count": 44,
   "metadata": {},
   "outputs": [],
   "source": [
    "# Get corresponding sentences\n",
    "new_data_clean['clean_sentences'] = 0\n",
    "# Convert to object data to be able to assign a list\n",
    "new_data_clean['clean_sentences'] = new_data_clean['clean_sentences'].astype(object)\n",
    "size_new_data_clean = new_data_clean.shape[0]"
   ]
  },
  {
   "cell_type": "code",
   "execution_count": 45,
   "metadata": {},
   "outputs": [
    {
     "name": "stdout",
     "output_type": "stream",
     "text": [
      "28408\n"
     ]
    }
   ],
   "source": [
    "# Split text into sentences\n",
    "print(size_new_data_clean)\n",
    "for i in range(size_new_data_clean):\n",
    "    sentences = new_data_clean.loc[i,'clean_text'].split(\". \")\n",
    "    new_data_clean.iat[i,new_data_clean.columns.get_loc('clean_sentences')] = sentences"
   ]
  },
  {
   "cell_type": "code",
   "execution_count": 46,
   "metadata": {},
   "outputs": [
    {
     "data": {
      "text/plain": [
       "['<SECTION-HEADER> SHORT TITLE',\n",
       " 'This Act may be cited as the \"Legacy IRA Act\"',\n",
       " '<SECTION-HEADER> TAX-FREE DISTRIBUTIONS FROM INDIVIDUAL RETIREMENT ACCOUNTS FOR CHARITABLE PURPOSES',\n",
       " 'In General',\n",
       " 'Paragraph (8) of section 408(d) of the Internal Revenue Code of 1986 is amended to read as follows: Distributions for charitable purposes',\n",
       " 'In general',\n",
       " 'No amount shall be includible in gross income by reason of a qualified charitable distribution',\n",
       " 'Limitations',\n",
       " 'In general',\n",
       " 'The aggregate amount excluded from gross income by subparagraph (A) for a taxable year shall not exceed $400,000',\n",
       " 'Organization and entity specific limitations',\n",
       " 'The amount excluded from gross income by subparagraph (A) for a taxable year shall not exceed $100,000, in the case of any distribution described in subparagraph (i)(I), and $400,000, in the case of any distribution described in subparagraph (i)(II)',\n",
       " 'Qualified charitable distribution',\n",
       " \"For purposes of this paragraph, the term `qualified charitable distribution' means any distribution from an individual retirement account which is made directly by the trustee to a specified charitable organization, or to a split-interest entity, and which is made on or after the date that the individual for whose benefit the account is maintained has attained in the case of any distribution described in clause (I), age 7012, and in the case of any distribution described in clause (II), age 65\",\n",
       " 'Special rules relating to distributions',\n",
       " 'For purposes of this paragraph Distribution must be otherwise includible',\n",
       " 'A distribution from an individual retirement account shall be treated as a qualified charitable distribution only to the extent that the distribution would be includible in gross income without regard to subparagraph (A)',\n",
       " 'Limitation on income interests',\n",
       " 'A distribution from an individual retirement account to a split-interest entity may only be treated as a qualified charitable distribution if no person holds an income interest in the split-interest entity other than the individual for whose benefit such account is maintained, the spouse of such individual, or both, and the income interest in the split-interest entity is nonassignable',\n",
       " 'Contributions must be otherwise deductible',\n",
       " 'A distribution from an individual retirement account to a specified charitable organization may be treated as a qualified charitable distribution only if in the case of a distribution to a charitable remainder annuity trust or a charitable remainder unitrust, a deduction for the entire value of the remainder interest in the distribution for the benefit of a specified charitable organization would be allowable under section 170 (determined without regard to subsection , and in the case of a charitable gift annuity, a deduction in an amount equal to the amount of the distribution reduced by the value of the annuity described in section 501(m)(5)(B) would be allowable under section 170 (determined without regard to subsection ',\n",
       " 'Specified charitable organization defined',\n",
       " \"For purposes of this paragraph, the term `specified charitable organization' means an organization described in section 170(b)(1)(A) (other than any organization described in section 509(a)(3) or any fund or account described in section 4966(d)(2))\",\n",
       " 'Split-interest entity defined',\n",
       " \"For purposes of this paragraph, the term `split-interest entity' means a charitable remainder annuity trust (as defined in section 664(d)(1)), but only if such trust is funded exclusively by a qualified charitable distribution, a charitable remainder unitrust (as defined in section 664(d)(2)), but only if such unitrust is funded exclusively by one or more qualified charitable distributions, or a charitable gift annuity (as defined in section 501(m)(5)), but only if such annuity is funded exclusively by a qualified charitable distribution and commences fixed payments of 5 percent or greater not later than one year from date of funding\",\n",
       " 'Special rules',\n",
       " 'Charitable remainder trusts',\n",
       " 'Notwithstanding section 664(b), distributions made from a trust described in clause (i) or of subparagraph (F) shall be treated as ordinary income in the hands of the beneficiary to whom is paid the annuity described in section 664(d)(1)(A) or the payment described in section 664(d)(2)(A)',\n",
       " 'Charitable gift annuities',\n",
       " 'Qualified charitable distributions made for a charitable gift annuity shall not be treated as an investment in the contract for purposes of section 72(c)',\n",
       " 'Application of section 72',\n",
       " 'Notwithstanding section 72, in determining the extent to which a distribution is a qualified charitable distribution, the entire amount of the distribution shall be treated as includible in gross income without regard to subparagraph to the extent that such amount does not exceed the aggregate amount which would have been so includible if all amounts in all individual retirement plans of the individual were distributed during the taxable year and all such plans were treated as 1 contract for purposes of determining under section 72 the aggregate amount which would have been so includible',\n",
       " 'Proper adjustments shall be made in applying section 72 to other distributions in such taxable year and subsequent taxable years',\n",
       " 'Determining deduction under section 170',\n",
       " 'Qualified charitable distributions shall not be taken into account in determining the deduction under section 170',\n",
       " 'Required minimum distributions',\n",
       " 'The entire amount of a qualified charitable distribution shall be taken into account for purposes of section 401(a)(9)',\n",
       " 'Termination with respect to split-entities',\n",
       " 'Subparagraph (A) shall not apply to a distribution to a split-interest entity after December 31, 2020.\"',\n",
       " 'Effective Date',\n",
       " 'The amendment made by this section shall apply to distributions made in taxable years ending after the date of the enactment of this Act.']"
      ]
     },
     "execution_count": 46,
     "metadata": {},
     "output_type": "execute_result"
    }
   ],
   "source": [
    "# Sanity check\n",
    "new_data_clean.loc[1000,'clean_sentences']"
   ]
  },
  {
   "cell_type": "code",
   "execution_count": 47,
   "metadata": {},
   "outputs": [],
   "source": [
    "# Write results\n",
    "new_data_clean.to_json('data/us_train_data_final_clean_with_sentences.jsonl', lines=True, orient='records')"
   ]
  },
  {
   "cell_type": "code",
   "execution_count": 48,
   "metadata": {},
   "outputs": [],
   "source": [
    "# Read one last time and confirm that everything is fine\n",
    "new_data_clean_with_sentences = pd.read_json('data/us_train_data_final_clean_with_sentences.jsonl', lines=True)"
   ]
  },
  {
   "cell_type": "code",
   "execution_count": 49,
   "metadata": {},
   "outputs": [
    {
     "data": {
      "text/plain": [
       "['<SECTION-HEADER> SHORT TITLE',\n",
       " 'This Act may be cited as the \"South Utah Valley Electric Conveyance Act\"',\n",
       " '<SECTION-HEADER> DEFINITIONS',\n",
       " 'In this Act: District',\n",
       " 'The term \"District\" means the South Utah Valley Electric Service District, organized under the laws of the State of Utah',\n",
       " 'Electric distribution system',\n",
       " 'The term \"Electric Distribution System\" means fixtures, irrigation, or power facilities lands, distribution fixture lands, and shared power poles',\n",
       " 'Fixtures',\n",
       " 'The term \"fixtures\" means all power poles, cross-members, wires, insulators and associated fixtures, including substations, that comprise those portions of the Strawberry Valley Project power distribution system that are rated at a voltage of 12.5 kilovolts and were constructed with Strawberry Valley Project revenues',\n",
       " 'And any such fixtures that are located on Federal lands and interests in lands',\n",
       " 'Irrigation or power facilities lands',\n",
       " 'The term \"irrigation or power facilities lands\" means all Federal lands and interests in lands where the fixtures are located on the date of the enactment of this Act and which are encumbered by other Strawberry Valley Project irrigation or power features, including lands underlying the Strawberry Substation',\n",
       " 'Distribution fixture lands',\n",
       " 'The term \"distribution fixture lands\" means all Federal lands and interests in lands where the fixtures are located on the date of the enactment of this Act and which are unencumbered by other Strawberry Valley Project features, to a maximum corridor width of 30 feet on each side of the centerline of the fixtures\\' power lines as those lines exist on the date of the enactment of this Act',\n",
       " 'Shared power poles',\n",
       " 'The term \"shared power poles\" means poles that comprise those portions of the Strawberry Valley Project Power Transmission System, that are rated at a voltage of 46.0 kilovolts, are owned by the United States, and support fixtures of the Electric Distribution System',\n",
       " 'Secretary',\n",
       " 'The term \"Secretary\" means the Secretary of the Interior',\n",
       " '<SECTION-HEADER> CONVEYANCE OF ELECTRIC DISTRIBUTION SYSTEM',\n",
       " 'In General',\n",
       " 'Inasmuch as the Strawberry Water Users Association conveyed its interest, if any, in the Electric Distribution System to the District by a contract dated April 7, 1986, and in consideration of the District assuming from the United States all liability for administration, operation, maintenance, and replacement of the Electric Distribution System, the Secretary shall, as soon as practicable after the date of the enactment of this Act and in accordance with all applicable law convey and assign to the District without charge or further consideration all of the United States right, title, and interest in and to all fixtures owned by the United States as part of the Electric Distribution System, and the distribution fixture land',\n",
       " 'License for use in perpetuity of the shared power poles to continue to own, operate, maintain, and replace Electric Distribution Fixtures attached to the shared power poles',\n",
       " 'And licenses for use and for access in perpetuity for purposes of operation, maintenance, and replacement across, over, and along all project lands and interests in irrigation and power facilities lands where the Electric Distribution System is located on the date of the enactment of this Act that are necessary for other Strawberry Valley Project facilities , including lands underlying the Strawberry Substation',\n",
       " 'And such corridors where Federal lands and interests in lands are abutting public streets and roads',\n",
       " 'And can provide access that will facilitate operation, maintenance, and replacement of facilities',\n",
       " 'Compliance With Environmental Laws',\n",
       " 'In general',\n",
       " 'Before conveying lands, interest in lands, and fixtures under subsection (a), the Secretary shall comply with all applicable requirements under the National Environmental Policy Act of 1969, the Endangered Species Act of 1973',\n",
       " 'And any other law applicable to the land and facilities',\n",
       " 'Effect',\n",
       " 'Nothing in this Act modifies or alters any obligations under the National Environmental Policy Act of 1969',\n",
       " 'Or the Endangered Species Act of 1973 ',\n",
       " 'Power Generation and 46kV Transmission Facilities Excluded',\n",
       " 'Except for the uses as granted by license in Shared Power Poles under section 3(a)(2), nothing in this Act shall be construed to grant or convey to the District or any other party, any interest in any facilities shared or otherwise that comprise a portion of the Strawberry Valley Project power generation system or the federally owned portions of the 46 kilovolt transmission system which ownership shall remain in the United States',\n",
       " '<SECTION-HEADER> EFFECT OF CONVEYANCE',\n",
       " 'On conveyance of any land or facility under section 3(a)(1) the conveyed and assigned land and facilities shall no longer be part of a Federal reclamation project',\n",
       " 'The District shall not be entitled to receive any future Bureau or Reclamation benefits with respect to the conveyed and assigned land and facilities, except for benefits that would be available to other non-Bureau of Reclamation facilities',\n",
       " 'And the United States shall not be liable for damages arising out of any act, omission, or occurrence relating to the land and facilities, including the transaction of April 7, 1986, between the Strawberry Water Users Association and Strawberry Electric Service District',\n",
       " '<SECTION-HEADER> REPORT',\n",
       " 'If a conveyance required under section 3 is not completed by the date that is 1 year after the date of the enactment of this Act, not later than 30 days after that date, the Secretary shall submit to Congress a report that describes the status of the conveyance, describes any obstacles to completing the conveyance, and specifies an anticipated date for completion of the conveyance.']"
      ]
     },
     "execution_count": 49,
     "metadata": {},
     "output_type": "execute_result"
    }
   ],
   "source": [
    "# Example: first row\n",
    "new_data_clean_with_sentences.loc[0,\"clean_sentences\"]"
   ]
  },
  {
   "cell_type": "markdown",
   "metadata": {},
   "source": [
    "## Second data set: US test"
   ]
  },
  {
   "cell_type": "code",
   "execution_count": 17,
   "metadata": {},
   "outputs": [],
   "source": [
    "# Read data\n",
    "new_data_2 = pd.read_json('data/us_test_data_final.jsonl', lines=True)"
   ]
  },
  {
   "cell_type": "code",
   "execution_count": 18,
   "metadata": {},
   "outputs": [],
   "source": [
    "# Pre-process\n",
    "new_data_2['clean_text'] = new_data_2.text.map(clean_text)        \n",
    "new_data_2['clean_summary'] = new_data_2.summary.map(clean_text)\n",
    "new_data_2['clean_title'] = new_data_2.title.map(clean_text)"
   ]
  },
  {
   "cell_type": "code",
   "execution_count": 19,
   "metadata": {},
   "outputs": [],
   "source": [
    "# Write resulting dataset\n",
    "new_data_2.to_json('data/us_test_data_final_clean.jsonl', lines=True, orient='records')"
   ]
  },
  {
   "cell_type": "code",
   "execution_count": 20,
   "metadata": {},
   "outputs": [],
   "source": [
    "# Read back and confirm that everything is fine\n",
    "new_data_2_clean = pd.read_json('data/us_test_data_final_clean.jsonl', lines=True)"
   ]
  },
  {
   "cell_type": "code",
   "execution_count": 21,
   "metadata": {},
   "outputs": [
    {
     "data": {
      "text/plain": [
       "'<SECTION-HEADER> SHORT TITLE. This Act may be cited as the \"Public Safety Officers\\' Benefits Improvement Act of 2016\". <SECTION-HEADER> REPORTS. Section 1205 of title I of the Omnibus Crime Control and Safe Streets Act of 1968 is amended in subsection (a), by inserting \"Rules, regulations, and procedures issued under this part may include regulations based on standards developed by another Federal agency for programs related to public safety officer death or disability claims.\" before the last sentence, in subsection (b) by inserting \"(1)\" before \"In making\". And by adding at the end the following: In making a determination under section 1201, the Bureau shall give substantial weight to the evidence and all findings of fact presented by a State, local, or Federal administrative or investigative agency regarding eligibility for death or disability benefits.\". And by adding at the end the following: (1)(A) Not later than 30 days after the date of enactment of this subsection, the Bureau shall make available on the public website of the Bureau information on all death, disability, and educational assistance claims submitted under this part that are pending as of the date on which the information is made available. Not less frequently than once per week, the Bureau shall make available on the public website of the Bureau updated information with respect to all death, disability, and educational assistance claims submitted under this part that are pending as of the date on which the information is made available. The information made available under this paragraph shall include for each pending claim the date on which the claim was submitted to the Bureau, the State of residence of the claimant, an anonymized, identifying claim number, and the nature of the claim. And the total number of pending claims that were submitted to the Bureau more than 1 year before the date on which the information is made available. (A) Not later than 180 days after the date of enactment of this subsection, and every 180 days thereafter, the Bureau shall submit to Congress a report on the death, disability, and educational assistance claims submitted under this part. Each report submitted under subparagraph (A) shall include information on the total number of claims for which a final determination has been made during the 180-day period preceding the report. The amount of time required to process each claim for which a final determination has been made during the 180- day period preceding the report. As of the last day of the 180-day period preceding the report, the total number of claims submitted to the Bureau on or before that date for which a final determination has not been made. As of the last day of the 180-day period preceding the report, the total number of claims submitted to the Bureau on or before the date that is 1 year before that date for which a final determination has not been made. For each claim described in clause (iv), a detailed description of the basis for delay. As of the last day of the 180-day period preceding the report, the total number of claims submitted to the Bureau on or before that date relating to exposure due to the September 11, 2001, terrorism attacks for which a final determination has not been made. As of the last day of the 180-day period preceding the report, the total number of claims submitted to the Bureau on or before the date that is 1 year before that date relating to exposure due to the September 11, 2001, terrorism attacks for which a final determination has not been made. For each claim described in clause (vii), a detailed description of the basis for delay. The total number of claims submitted to the Bureau relating to exposure due to the September 11, 2001, terrorism attacks for which a final determination was made during the 180-day period preceding the report, and the average award amount for any such claims that were approved. The result of each claim for which a final determination was made during the 180-day period preceding the report, including the number of claims rejected and the basis for any denial of benefits. The number of final determinations which were appealed during the 180-day period preceding the report, regardless of when the final determination was first made. The average number of claims processed per reviewer of the Bureau during the 180-day period preceding the report. For any claim submitted to the Bureau that required the submission of additional information from a public agency, and for which the public agency completed providing all of the required information during the 180-day period preceding the report, the average length of the period beginning on the date the public agency was contacted by the Bureau and ending on the date on which the public agency submitted all required information to the Bureau. For any claim submitted to the Bureau for which the Bureau issued a subpoena to a public agency during the 180-day period preceding the report in order to obtain information or documentation necessary to determine the claim, the name of the public agency, the date on which the subpoena was issued, and the dates on which the public agency was contacted by the Bureau before the issuance of the subpoena. And information on the compliance of the Bureau with the obligation to offset award amounts under section 1201(f)(3), including the number of claims that are eligible for compensation under both this part and the September 11th Victim Compensation Fund of 2001. For each claim described in subclause (I) for which compensation has been paid under the VCF, the amount of compensation paid under the VCF. The number of claims described in subclause for which the Bureau has made a final determination. And the number of claims described in subclause for which the Bureau has not made a final determination. Not later than 5 years after the date of enactment of the Public Safety Officers\\' Benefits Improvement Act of 2016, and every 5 years thereafter, the Comptroller General of the United States shall conduct a study on the compliance of the Bureau with the obligation to offset award amounts under section 1201(f)(3). And submit to Congress a report on the study conducted under subparagraph (A) that includes an assessment of whether the Bureau has provided the information required under subparagraph (B)(ix) of paragraph (2) of this subsection in each report required under that paragraph. In this subsection, the term `nature of the claim\\' means whether the claim is a claim for benefits under this subpart with respect to the death of a public safety officer. Benefits under this subpart with respect to the disability of a public safety officer. Or education assistance under subpart 2.\". <SECTION-HEADER> AGE LIMITATION FOR CHILDREN. Section 1212(c) of title I of the Omnibus Crime Control and Safe Streets Act of 1968 (42 USC. 3796d-1(c)) is amended by striking \"No child\" and inserting the following: In general. Subject to paragraph (2), no child\". And by adding at the end the following: Delayed approvals. Educational assistance application. If a claim for assistance under this subpart is approved more than 1 year after the date on which the application for such assistance is filed with the Attorney General, the age limitation under this subsection shall be extended by the length of the period beginning on the day after the date that is 1 year after the date on which the application is filed. And ending on the date on which the application is approved. Claim for benefits for death or permanent and total disability. In addition to an extension under subparagraph (A), if any, for an application for assistance under this subpart that relates to a claim for benefits under subpart 1 that was approved more than 1 year after the date on which the claim was filed with the Attorney General, the age limitation under this subsection shall be extended by the length of the period beginning on the day after the date that is 1 year after the date on which the claim for benefits is submitted. And ending on the date on which the claim for benefits is approved.\". <SECTION-HEADER> DUE DILIGENCE IN PAYING BENEFIT CLAIMS. Subpart 1 of part L of title I of the Omnibus Crime Control and Safe Streets Act of 1968 is amended by adding at the end the following: \"Section 1206. DUE DILIGENCE IN PAYING BENEFIT CLAIMS. In General. The Bureau, with all due diligence, shall expeditiously attempt to obtain the information and documentation necessary to adjudicate a benefit claim filed under this part, including a claim for financial assistance under subpart 2. Sufficient Information Unavailable. If a benefit claim filed under this part, including a claim for financial assistance under subpart 2, is unable to be adjudicated by the Bureau because of a lack of information or documentation from a third party, such as a public agency, the Bureau may not abandon the benefit claim unless the Bureau has utilized the investigative tools available to the Bureau to obtain the necessary information or documentation, including subpoenas.\". <SECTION-HEADER> PRESUMPTION THAT OFFICER ACTED PROPERLY. Section 1202 of title I of the Omnibus Crime Control and Safe Streets Act of 1968 is amended by striking \"No benefit\" and inserting the following: In General. No benefit\". And by adding at the end the following: Presumption. In determining whether a benefit is payable under this part, the Bureau shall presume that none of the limitations described in subsection (a) apply. And have the burden of establishing by clear and convincing evidence that a limitation described in subsection applies.\". <SECTION-HEADER> EFFECTIVE DATE. APPLICABILITY. The amendments made by this Act shall take effect on the date of enactment of this Act. And apply to any benefit claim or application under part L of title I of the Omnibus Crime Control and Safe Streets Act of 1968 that is pending before the Bureau of Justice Assistance on the date of enactment. Or received by the Bureau on or after the date of enactment of this Act.'"
      ]
     },
     "execution_count": 21,
     "metadata": {},
     "output_type": "execute_result"
    }
   ],
   "source": [
    "# Example: first row\n",
    "new_data_2_clean.loc[0,'clean_text']"
   ]
  },
  {
   "cell_type": "code",
   "execution_count": 22,
   "metadata": {},
   "outputs": [],
   "source": [
    "# Get corresponding sentences\n",
    "new_data_2_clean['clean_sentences'] = 0\n",
    "# Convert to object data to be able to assign a list\n",
    "new_data_2_clean['clean_sentences'] = new_data_2_clean['clean_sentences'].astype(object)\n",
    "size_new_data_2_clean = new_data_2_clean.shape[0]"
   ]
  },
  {
   "cell_type": "code",
   "execution_count": 23,
   "metadata": {},
   "outputs": [
    {
     "name": "stdout",
     "output_type": "stream",
     "text": [
      "5014\n"
     ]
    }
   ],
   "source": [
    "# Split text into sentences\n",
    "print(size_new_data_2_clean)\n",
    "for i in range(size_new_data_2_clean):\n",
    "    sentences = new_data_2_clean.loc[i,'clean_text'].split(\". \")\n",
    "    new_data_2_clean.iat[i,new_data_2_clean.columns.get_loc('clean_sentences')] = sentences"
   ]
  },
  {
   "cell_type": "code",
   "execution_count": 24,
   "metadata": {},
   "outputs": [
    {
     "data": {
      "text/plain": [
       "['<SECTION-HEADER> SHORT TITLE',\n",
       " 'This Act may be cited as the \"Veterans Advocacy Act of 2007\"',\n",
       " '<SECTION-HEADER> PILOT PROGRAM ON PROVISION OF LEGAL ASSISTANCE TO ASSIST VETERANS AND MEMBERS OF THE ARMED FORCES RECEIVE HEALTH CARE, BENEFITS, AND SERVICES',\n",
       " 'Pilot Program Required',\n",
       " 'In general',\n",
       " 'The Secretary of Veterans Affairs shall carry out a pilot program to assess the feasibility and advisability of utilizing eligible entities to provide legal services to assist veterans and members of the Armed Forces in applying for and receiving health care, benefits, and services',\n",
       " 'Consultation',\n",
       " 'The Secretary of Veterans Affairs shall carry out the pilot program in consultation with the Secretary of Defense',\n",
       " 'Grants',\n",
       " 'In general',\n",
       " 'The Secretary of Veterans Affairs shall carry out the pilot program through the award of grants to eligible entities selected by the panel established in accordance with subsection (d)(1) for the provision of legal services at no cost to members of the Armed Forces and veterans as described in subsection (a)(1)',\n",
       " 'Or the provision of legal training to attorneys of eligible entities on the health and benefits programs of the Department of Defense and the Department of Veterans Affairs to facilitate the provision of legal services described in subsection (a)(1)',\n",
       " 'Awarding grants',\n",
       " 'Grants under this subsection shall be awarded to eligible entities selected pursuant to subsection not later than 180 days after the date of the enactment of this Act',\n",
       " 'Number of grants',\n",
       " 'In general',\n",
       " 'The Secretary shall award 10 grants under the pilot program',\n",
       " 'State-designated protection and advocacy systems',\n",
       " 'Not less than five of the grants awarded under the pilot program shall be awarded to State- designated protection and advocacy systems',\n",
       " 'Grant amount',\n",
       " 'The amount of each grant awarded under the pilot program shall be determined by the selection panel described in subsection (d)(1), except that each such grant may not be awarded in an amount that exceeds $100,000',\n",
       " 'Or is less than $25,000',\n",
       " 'Duration',\n",
       " 'The duration of any grant awarded under the pilot program may not exceed one year',\n",
       " 'Avoidance of frivolous benefit claims',\n",
       " 'An eligible entity that receives a grant under this subsection shall make reasonable efforts to avoid representing veterans and members of the Armed Forces with respect to frivolous benefits claims',\n",
       " 'Eligible Entities',\n",
       " 'For purposes of this subsection, an eligible entity is any entity or organization, including a State- designated protection and advocacy systems, that is not part of the Department of Veterans Affairs or the Department of Defense',\n",
       " 'And provides legal services by licensed attorneys with experience assisting veterans, members of the Armed Forces, or persons with disabilities',\n",
       " 'Selection of Grant Recipients',\n",
       " 'Selection by panel',\n",
       " 'In general',\n",
       " 'Each application submitted under paragraph (2) shall be evaluated by a panel appointed by the Secretary for purposes of the pilot program',\n",
       " 'The panel shall select eligible entities for receipt of grants under subsection (b) from among the applications so evaluated',\n",
       " 'Membership of panel',\n",
       " 'Members of the panel shall be appointed in equal numbers from among individuals as follows: Officers and employees of the Department of Veterans Affairs',\n",
       " 'With the approval of the Secretary of Defense, officers and employees of the Department of Defense',\n",
       " 'Representatives of veterans service organizations',\n",
       " 'Representatives of organizations that provide services to members of the Armed Forces',\n",
       " 'Attorneys that represent veterans',\n",
       " 'Attorneys employed by a State- designated protection and advocacy system',\n",
       " 'Application',\n",
       " 'An eligible entity seeking a grant under the pilot program shall submit to the Secretary of Veterans Affairs an application therefor in such form and in such manner as the Secretary considers appropriate',\n",
       " 'Elements',\n",
       " 'Each application submitted under paragraph shall include the following: In the case of an eligible entity applying for a grant under subsection (b)(1)(A), the following: A description of the population of members of the Armed Forces and veterans to be provided assistance',\n",
       " 'A description of the outreach to be conducted by the eligible entity concerned to notify members of the Armed Forces and veterans of the availability of such assistance',\n",
       " 'In the case of an eligible entity applying for a grant under subsection (b)(1)(B), the following: A description of the population of attorneys to be provided training',\n",
       " 'A description of the outreach to be conducted by the eligible entity concerned to notify attorneys of the availability of such training',\n",
       " 'In the case of an eligible entity applying for a grant under subparagraphs (A) and (B) of subsection (1), the elements described in subparagraphs (A) and of this paragraph',\n",
       " 'Report',\n",
       " \"Not later than one year after the date described in subsection (b)(2), the Secretary of Veterans Affairs shall submit to the Committee on Veterans' Affairs of the Senate and the Committee on Veterans' Affairs of the House of Representatives a report on the pilot program required by subsection (a), including the following: The number of veterans and members of the Armed Forces that received assistance or services from such pilot program\",\n",
       " 'A description of the assistance and services provided as part of such pilot program',\n",
       " 'Definitions',\n",
       " 'In this section: State-designated protection and advocacy system',\n",
       " 'The term \"State-designated protection and advocacy system\" means a system established in a State to protect the legal and human rights of individuals with developmental disabilities in accordance with subtitle C of the Developmental Disabilities Assistance and Bill of Rights Act of 2000 ',\n",
       " 'Veterans service organization',\n",
       " 'The term \"veterans service organization\" means any organization organized by the Secretary of Veterans Affairs for the representation of veterans under section 5902 of title 38, United States Code',\n",
       " 'Funding',\n",
       " 'Of amounts appropriated for \"Defense Health Program\" in the US Troop Readiness, Veterans\\' Care, Katrina Recovery, and Iraq Accountability Appropriations Act, 2007 , $1,000,000 shall be available for fiscal year 2008 to carry out the provisions of this section and not for the purposes for which appropriated by such Act',\n",
       " 'Any amount made available by this subsection shall remain available without fiscal year limitation.']"
      ]
     },
     "execution_count": 24,
     "metadata": {},
     "output_type": "execute_result"
    }
   ],
   "source": [
    "# Sanity check\n",
    "new_data_2_clean.loc[1000,'clean_sentences']"
   ]
  },
  {
   "cell_type": "code",
   "execution_count": 25,
   "metadata": {},
   "outputs": [],
   "source": [
    "# Write results\n",
    "new_data_2_clean.to_json('data/us_test_data_final_clean_with_sentences.jsonl', lines=True, orient='records')"
   ]
  },
  {
   "cell_type": "code",
   "execution_count": 26,
   "metadata": {},
   "outputs": [],
   "source": [
    "# Read one last time and confirm that everything is fine\n",
    "new_data_2_clean_with_sentences = pd.read_json('data/us_test_data_final_clean_with_sentences.jsonl', lines=True)"
   ]
  },
  {
   "cell_type": "code",
   "execution_count": 27,
   "metadata": {},
   "outputs": [
    {
     "data": {
      "text/plain": [
       "['<SECTION-HEADER> SHORT TITLE',\n",
       " 'This Act may be cited as the \"Public Safety Officers\\' Benefits Improvement Act of 2016\"',\n",
       " '<SECTION-HEADER> REPORTS',\n",
       " 'Section 1205 of title I of the Omnibus Crime Control and Safe Streets Act of 1968 is amended in subsection (a), by inserting \"Rules, regulations, and procedures issued under this part may include regulations based on standards developed by another Federal agency for programs related to public safety officer death or disability claims.\" before the last sentence, in subsection (b) by inserting \"(1)\" before \"In making\"',\n",
       " 'And by adding at the end the following: In making a determination under section 1201, the Bureau shall give substantial weight to the evidence and all findings of fact presented by a State, local, or Federal administrative or investigative agency regarding eligibility for death or disability benefits.\"',\n",
       " 'And by adding at the end the following: (1)(A) Not later than 30 days after the date of enactment of this subsection, the Bureau shall make available on the public website of the Bureau information on all death, disability, and educational assistance claims submitted under this part that are pending as of the date on which the information is made available',\n",
       " 'Not less frequently than once per week, the Bureau shall make available on the public website of the Bureau updated information with respect to all death, disability, and educational assistance claims submitted under this part that are pending as of the date on which the information is made available',\n",
       " 'The information made available under this paragraph shall include for each pending claim the date on which the claim was submitted to the Bureau, the State of residence of the claimant, an anonymized, identifying claim number, and the nature of the claim',\n",
       " 'And the total number of pending claims that were submitted to the Bureau more than 1 year before the date on which the information is made available',\n",
       " '(A) Not later than 180 days after the date of enactment of this subsection, and every 180 days thereafter, the Bureau shall submit to Congress a report on the death, disability, and educational assistance claims submitted under this part',\n",
       " 'Each report submitted under subparagraph (A) shall include information on the total number of claims for which a final determination has been made during the 180-day period preceding the report',\n",
       " 'The amount of time required to process each claim for which a final determination has been made during the 180- day period preceding the report',\n",
       " 'As of the last day of the 180-day period preceding the report, the total number of claims submitted to the Bureau on or before that date for which a final determination has not been made',\n",
       " 'As of the last day of the 180-day period preceding the report, the total number of claims submitted to the Bureau on or before the date that is 1 year before that date for which a final determination has not been made',\n",
       " 'For each claim described in clause (iv), a detailed description of the basis for delay',\n",
       " 'As of the last day of the 180-day period preceding the report, the total number of claims submitted to the Bureau on or before that date relating to exposure due to the September 11, 2001, terrorism attacks for which a final determination has not been made',\n",
       " 'As of the last day of the 180-day period preceding the report, the total number of claims submitted to the Bureau on or before the date that is 1 year before that date relating to exposure due to the September 11, 2001, terrorism attacks for which a final determination has not been made',\n",
       " 'For each claim described in clause (vii), a detailed description of the basis for delay',\n",
       " 'The total number of claims submitted to the Bureau relating to exposure due to the September 11, 2001, terrorism attacks for which a final determination was made during the 180-day period preceding the report, and the average award amount for any such claims that were approved',\n",
       " 'The result of each claim for which a final determination was made during the 180-day period preceding the report, including the number of claims rejected and the basis for any denial of benefits',\n",
       " 'The number of final determinations which were appealed during the 180-day period preceding the report, regardless of when the final determination was first made',\n",
       " 'The average number of claims processed per reviewer of the Bureau during the 180-day period preceding the report',\n",
       " 'For any claim submitted to the Bureau that required the submission of additional information from a public agency, and for which the public agency completed providing all of the required information during the 180-day period preceding the report, the average length of the period beginning on the date the public agency was contacted by the Bureau and ending on the date on which the public agency submitted all required information to the Bureau',\n",
       " 'For any claim submitted to the Bureau for which the Bureau issued a subpoena to a public agency during the 180-day period preceding the report in order to obtain information or documentation necessary to determine the claim, the name of the public agency, the date on which the subpoena was issued, and the dates on which the public agency was contacted by the Bureau before the issuance of the subpoena',\n",
       " 'And information on the compliance of the Bureau with the obligation to offset award amounts under section 1201(f)(3), including the number of claims that are eligible for compensation under both this part and the September 11th Victim Compensation Fund of 2001',\n",
       " 'For each claim described in subclause (I) for which compensation has been paid under the VCF, the amount of compensation paid under the VCF',\n",
       " 'The number of claims described in subclause for which the Bureau has made a final determination',\n",
       " 'And the number of claims described in subclause for which the Bureau has not made a final determination',\n",
       " \"Not later than 5 years after the date of enactment of the Public Safety Officers' Benefits Improvement Act of 2016, and every 5 years thereafter, the Comptroller General of the United States shall conduct a study on the compliance of the Bureau with the obligation to offset award amounts under section 1201(f)(3)\",\n",
       " 'And submit to Congress a report on the study conducted under subparagraph (A) that includes an assessment of whether the Bureau has provided the information required under subparagraph (B)(ix) of paragraph (2) of this subsection in each report required under that paragraph',\n",
       " \"In this subsection, the term `nature of the claim' means whether the claim is a claim for benefits under this subpart with respect to the death of a public safety officer\",\n",
       " 'Benefits under this subpart with respect to the disability of a public safety officer',\n",
       " 'Or education assistance under subpart 2.\"',\n",
       " '<SECTION-HEADER> AGE LIMITATION FOR CHILDREN',\n",
       " 'Section 1212(c) of title I of the Omnibus Crime Control and Safe Streets Act of 1968 (42 USC',\n",
       " '3796d-1(c)) is amended by striking \"No child\" and inserting the following: In general',\n",
       " 'Subject to paragraph (2), no child\"',\n",
       " 'And by adding at the end the following: Delayed approvals',\n",
       " 'Educational assistance application',\n",
       " 'If a claim for assistance under this subpart is approved more than 1 year after the date on which the application for such assistance is filed with the Attorney General, the age limitation under this subsection shall be extended by the length of the period beginning on the day after the date that is 1 year after the date on which the application is filed',\n",
       " 'And ending on the date on which the application is approved',\n",
       " 'Claim for benefits for death or permanent and total disability',\n",
       " 'In addition to an extension under subparagraph (A), if any, for an application for assistance under this subpart that relates to a claim for benefits under subpart 1 that was approved more than 1 year after the date on which the claim was filed with the Attorney General, the age limitation under this subsection shall be extended by the length of the period beginning on the day after the date that is 1 year after the date on which the claim for benefits is submitted',\n",
       " 'And ending on the date on which the claim for benefits is approved.\"',\n",
       " '<SECTION-HEADER> DUE DILIGENCE IN PAYING BENEFIT CLAIMS',\n",
       " 'Subpart 1 of part L of title I of the Omnibus Crime Control and Safe Streets Act of 1968 is amended by adding at the end the following: \"Section 1206',\n",
       " 'DUE DILIGENCE IN PAYING BENEFIT CLAIMS',\n",
       " 'In General',\n",
       " 'The Bureau, with all due diligence, shall expeditiously attempt to obtain the information and documentation necessary to adjudicate a benefit claim filed under this part, including a claim for financial assistance under subpart 2',\n",
       " 'Sufficient Information Unavailable',\n",
       " 'If a benefit claim filed under this part, including a claim for financial assistance under subpart 2, is unable to be adjudicated by the Bureau because of a lack of information or documentation from a third party, such as a public agency, the Bureau may not abandon the benefit claim unless the Bureau has utilized the investigative tools available to the Bureau to obtain the necessary information or documentation, including subpoenas.\"',\n",
       " '<SECTION-HEADER> PRESUMPTION THAT OFFICER ACTED PROPERLY',\n",
       " 'Section 1202 of title I of the Omnibus Crime Control and Safe Streets Act of 1968 is amended by striking \"No benefit\" and inserting the following: In General',\n",
       " 'No benefit\"',\n",
       " 'And by adding at the end the following: Presumption',\n",
       " 'In determining whether a benefit is payable under this part, the Bureau shall presume that none of the limitations described in subsection (a) apply',\n",
       " 'And have the burden of establishing by clear and convincing evidence that a limitation described in subsection applies.\"',\n",
       " '<SECTION-HEADER> EFFECTIVE DATE',\n",
       " 'APPLICABILITY',\n",
       " 'The amendments made by this Act shall take effect on the date of enactment of this Act',\n",
       " 'And apply to any benefit claim or application under part L of title I of the Omnibus Crime Control and Safe Streets Act of 1968 that is pending before the Bureau of Justice Assistance on the date of enactment',\n",
       " 'Or received by the Bureau on or after the date of enactment of this Act.']"
      ]
     },
     "execution_count": 27,
     "metadata": {},
     "output_type": "execute_result"
    }
   ],
   "source": [
    "# Example: first row\n",
    "new_data_2_clean_with_sentences.loc[0,\"clean_sentences\"]"
   ]
  },
  {
   "cell_type": "markdown",
   "metadata": {},
   "source": [
    "## Third dataset: CA test"
   ]
  },
  {
   "cell_type": "code",
   "execution_count": 28,
   "metadata": {},
   "outputs": [],
   "source": [
    "# Read data\n",
    "new_data_3 = pd.read_json('data/ca_test_data_final.jsonl', lines=True)"
   ]
  },
  {
   "cell_type": "code",
   "execution_count": 29,
   "metadata": {},
   "outputs": [],
   "source": [
    "# Pre-process\n",
    "new_data_3['clean_text'] = new_data_3.text.map(clean_text)        \n",
    "new_data_3['clean_summary'] = new_data_3.summary.map(clean_text)\n",
    "new_data_3['clean_title'] = new_data_3.title.map(clean_text)"
   ]
  },
  {
   "cell_type": "code",
   "execution_count": 30,
   "metadata": {},
   "outputs": [],
   "source": [
    "# Write resulting dataset\n",
    "new_data_3.to_json('data/ca_test_data_final_clean.jsonl', lines=True, orient='records')"
   ]
  },
  {
   "cell_type": "code",
   "execution_count": 31,
   "metadata": {},
   "outputs": [],
   "source": [
    "# Read back and confirm that everything is fine\n",
    "new_data_3_clean = pd.read_json('data/ca_test_data_final_clean.jsonl', lines=True)"
   ]
  },
  {
   "cell_type": "code",
   "execution_count": 32,
   "metadata": {},
   "outputs": [
    {
     "data": {
      "text/plain": [
       "'The people of the State of California do enact as follows: <SECTION-HEADER> The Legislature finds and declares all of the following: (1) Since 1899 congressionally chartered veterans’ organizations have provided a valuable service to our nation’s returning service members. These organizations help preserve the memories and incidents of the great hostilities fought by our nation, and preserve and strengthen comradeship among members. These veterans’ organizations also own and manage various properties including lodges, posts, and fraternal halls. These properties act as a safe haven where veterans of all ages and their families can gather together to find camaraderie and fellowship, share stories, and seek support from people who understand their unique experiences. This aids in the healing process for these returning veterans, and ensures their health and happiness. As a result of congressional chartering of these veterans’ organizations, the United States Internal Revenue Service created a special tax exemption for these organizations under Section 501(c)(19) of the Internal Revenue Code. Section 501(c)(19) of the Internal Revenue Code and related federal regulations provide for the exemption for posts or organizations of war veterans, or an auxiliary unit or society of, or a trust or foundation for, any such post or organization that, among other attributes, carries on programs to perpetuate the memory of deceased veterans and members of the Armed Forces and to comfort their survivors, conducts programs for religious, charitable, scientific, literary, or educational purposes, sponsors or participates in activities of a patriotic nature, and provides social and recreational activities for their members. Section 215.1 of the Revenue and Taxation Code stipulates that all buildings, support and so much of the real property on which the buildings are situated as may be required for the convenient use and occupation of the buildings, used exclusively for charitable purposes, owned by a veterans’ organization that has been chartered by the Congress of the United States, organized and operated for charitable purposes, when the same are used solely and exclusively for the purpose of the organization, if not conducted for profit and no part of the net earnings of which ensures to the benefit of any private individual or member thereof, are exempt from taxation. The Chief Counsel of the State Board of Equalization concluded, based on a 1979 appellate court decision, that only parts of American Legion halls are exempt from property taxation and that other parts, such as billiard rooms, card rooms, and similar areas, are not exempt. In a 1994 memorandum, the State Board of Equalization’s legal division further concluded that the areas normally considered eligible for exemptions are the office areas used to counsel veterans and the area used to store veterans’ records, but that the meeting hall and bar found in most of the facilities are not considered used for charitable purposes. Tax-exempt status is intended to provide economic incentive and support to veterans’ organizations to provide for the social welfare of the community of current and former military personnel. The State Board of Equalization’s constriction of the tax exemption has resulted in an onerous tax burden on California veteran service organizations posts or halls, hinders the posts’ ability to provide facilities for veterans, and threatens the economic viability of many local organizations. The charitable activities of a veteran service organizations post or hall are much more than the counseling of veterans. The requirements listed for qualification for the federal tax exemption clearly dictate a need for more than just an office. Programs to perpetuate the memory of deceased veterans and members of the Armed Forces and to comfort their survivors require the use of facilities for funerals and receptions. Programs for religious, charitable, scientific, literary, or educational purposes require space for more than 50 attendees. Activities of a patriotic nature need facilities to accommodate hundreds of people. Social and recreational activities for members require precisely those areas considered “not used for charitable purposes” by the State Board of Equalization. The State Board of Equalization’s interpretation of the Revenue and Taxation Code reflects a lack of understanding of the purpose and programs of the veterans service organizations posts or halls and is detrimental to the good works performed in support of our veteran community. <SECTION-HEADER><SECTION-HEADER> Section 215.1 of the Revenue and Taxation Code is amended to read: 215.1. All buildings, and so much of the real property on which the buildings are situated as may be required for the convenient use and occupation of the buildings, used exclusively for charitable purposes, owned by a veterans’ organization that has been chartered by the Congress of the United States, organized and operated for charitable purposes, and exempt from federal income tax as an organization described in Section 501(c)(19) of the Internal Revenue Code when the same are used solely and exclusively for the purpose of the organization, if not conducted for profit and no part of the net earnings of which inures to the benefit of any private individual or member thereof, shall be exempt from taxation. The exemption provided for in this section shall apply to the property of all organizations meeting the requirements of this section, subdivision (b) of Section 4 of Article XIII of the California Constitution, and paragraphs (1) to (4), inclusive, (6), and (7) of subdivision (a) of Section 214. (1) The exemption specified by subdivision (a) shall not be denied to a property on the basis that the property is used for fraternal, lodge, or social club purposes. With regard to this subdivision, the Legislature finds and declares all of the following: The exempt activities of a veterans’ organization as described in subdivision (a) qualitatively differ from the exempt activities of other nonprofit entities that use property for fraternal, lodge, or social club purposes in that the exempt purpose of the veterans’ organization is to conduct programs to perpetuate the memory of deceased veterans and members of the Armed Forces and to comfort their survivors, to conduct programs for religious, charitable, scientific, literary, or educational purposes, to sponsor or participate in activities of a patriotic nature, and to provide social and recreational activities for their members. In light of this distinction, the use of real property by a veterans’ organization as described in subdivision (a), for fraternal, lodge, or social club purposes is central to that organization’s exempt purposes and activities. In light of the factors set forth in subparagraphs (A) and (B), the use of real property by a veterans’ organization as described in subdivision (a) for fraternal, lodge, or social club purposes, constitutes the exclusive use of that property for a charitable purpose within the meaning of subdivision (b) of Section 4 of Article XIII of the California Constitution. The exemption provided for in this section shall not apply to any portion of a property that consists of a bar where alcoholic beverages are served. The portion of the property ineligible for the veterans’ organization exemption shall be that area used primarily to prepare and serve alcoholic beverages. An organization that files a claim for the exemption provided for in this section shall file with the assessor a valid organizational clearance certificate issued pursuant to Section 254.6. This exemption shall be known as the “veterans’ organization exemption.”<SECTION-HEADER><SECTION-HEADER> Notwithstanding Section 2229 of the Revenue and Taxation Code, no appropriation is made by this act and the state shall not reimburse any local agency for any property tax revenues lost by it pursuant to this act. <SECTION-HEADER><SECTION-HEADER> This act provides for a tax levy within the meaning of Article IV of the Constitution and shall go into immediate effect.'"
      ]
     },
     "execution_count": 32,
     "metadata": {},
     "output_type": "execute_result"
    }
   ],
   "source": [
    "# Example: first row\n",
    "new_data_3_clean.loc[0,'clean_text']"
   ]
  },
  {
   "cell_type": "code",
   "execution_count": 33,
   "metadata": {},
   "outputs": [],
   "source": [
    "# Get corresponding sentences\n",
    "new_data_3_clean['clean_sentences'] = 0\n",
    "# Convert to object data to be able to assign a list\n",
    "new_data_3_clean['clean_sentences'] = new_data_3_clean['clean_sentences'].astype(object)\n",
    "size_new_data_3_clean = new_data_3_clean.shape[0]"
   ]
  },
  {
   "cell_type": "code",
   "execution_count": 34,
   "metadata": {},
   "outputs": [
    {
     "name": "stdout",
     "output_type": "stream",
     "text": [
      "1237\n"
     ]
    }
   ],
   "source": [
    "# Split text into sentences\n",
    "print(size_new_data_3_clean)\n",
    "for i in range(size_new_data_3_clean):\n",
    "    sentences = new_data_3_clean.loc[i,'clean_text'].split(\". \")\n",
    "    new_data_3_clean.iat[i,new_data_3_clean.columns.get_loc('clean_sentences')] = sentences"
   ]
  },
  {
   "cell_type": "code",
   "execution_count": 35,
   "metadata": {},
   "outputs": [
    {
     "data": {
      "text/plain": [
       "['The people of the State of California do enact as follows: <SECTION-HEADER> Section 56804 of the Government Code is amended to read: 56804',\n",
       " 'For any proposal that includes a disincorporation, the executive officer shall prepare, or cause to be prepared by contract, a comprehensive fiscal analysis',\n",
       " 'This analysis shall become part of the report required pursuant to Section 56665',\n",
       " 'Data used for the analysis shall be from the most recent fiscal year for which data is available, preceding the issuances of the certificate of filing',\n",
       " 'When data requested by the executive officer in the notice to affected agencies, pursuant to paragraph (2) of subdivision (b) of Section 56658, is unavailable, the analysis shall document the source and methodology of the data used',\n",
       " 'The analysis shall review and document each of the following: The direct and indirect costs incurred by the city proposed for disincorporation for providing public services during the three fiscal years immediately preceding the submittal of the proposal for disincorporation',\n",
       " 'The direct and indirect costs incurred by the city proposed for disincorporation for current and proposed capital improvements, facilities, assets, and infrastructure',\n",
       " 'The sources of funding, if any, available to the entities proposed to assume the obligations of the city proposed for disincorporation',\n",
       " 'The anticipated costs, including all direct and indirect costs, to the entities proposed to assume the obligations of the city proposed for disincorporation in the provision of services to the area proposed for disincorporation',\n",
       " 'When determining costs, the executive officer shall also include all direct and indirect costs of any public services that are proposed to be transferred to state agencies for delivery',\n",
       " 'The revenues of the city proposed for disincorporation during the three fiscal years immediately preceding the initiation of the disincorporation proposal',\n",
       " 'All current and long-term liabilities, including, but not limited to, debt obligations, of the city proposed for disincorporation, including the balance of the restricted and unrestricted funds available to extinguish the obligations and liabilities',\n",
       " 'The potential financing mechanism or mechanisms to address any shortfalls and obligations for those responsibilities identified in this section, including, but not limited to, taxes or assessments',\n",
       " 'Any other information and analysis needed to make the findings required by Section 56770',\n",
       " '<SECTION-HEADER> Section 56816 of the Government Code is amended to read: 56816',\n",
       " 'It is the intent of the Legislature that any proposal that includes the disincorporation of a city result in a determination that the debt or contractual obligations and responsibilities of the city being disincorporated shall be the responsibility of that same territory for repayment',\n",
       " 'To ascertain this information, the city shall provide a written statement that determines and certifies all of the following to the commission prior to the issuance of a certificate of filing for a disincorporation proposal, pursuant to Sections 56651 and 56658: The indebtedness of the city',\n",
       " 'The amount of money in the city’s treasury',\n",
       " 'The amount of any tax levy, assessment, or other obligation due to the city that is unpaid or has not been collected',\n",
       " 'The amount of current and future liabilities, both internal debt owed to other special or restricted funds or enterprise funds within the agency and external debt owed to other public agencies or outside lenders or that results from contractual obligations, which may include contracts for goods or services, retirement obligations, actuarially determined unfunded pension liability of all classes in a public retirement system, including any documentation related to the termination of public retirement contract provisions, and the liability for other postemployment benefits',\n",
       " 'The information required by this paragraph shall include any associated revenue stream for financing that may be or has been committed to that liability, including employee contributions',\n",
       " 'The city shall provide a written statement identifying the successor agency to the city’s former redevelopment agency, if any, pursuant to Section 34173 of the Health and Safety Code',\n",
       " '<SECTION-HEADER> Section 57405 of the Government Code is amended to read: 57405',\n",
       " 'If a tax or assessment has been levied by the disincorporated city and remains uncollected, the county tax collector shall collect it when due and pay it into the county treasury on behalf of the designated successor agency or county to wind up the affairs of the disincorporated city',\n",
       " '<SECTION-HEADER> Section 57412 of the Government Code is amended to read: 57412',\n",
       " 'The governing body of the successor shall provide for collection of debts due the city and wind up its affairs',\n",
       " 'Upon an order by the commission, the appropriate officer of the successor shall perform any act necessary for winding up the city affairs, with the same effect as if it had been performed by the proper city officer',\n",
       " '<SECTION-HEADER> If the Commission on State Mandates determines that this act contains costs mandated by the state, reimbursement to local agencies and school districts for those costs shall be made pursuant to Part 7 of Division 4 of Title 2 of the Government Code.']"
      ]
     },
     "execution_count": 35,
     "metadata": {},
     "output_type": "execute_result"
    }
   ],
   "source": [
    "# Sanity check\n",
    "new_data_3_clean.loc[1000,'clean_sentences']"
   ]
  },
  {
   "cell_type": "code",
   "execution_count": 36,
   "metadata": {},
   "outputs": [],
   "source": [
    "# Write results\n",
    "new_data_3_clean.to_json('data/ca_test_data_final_clean_with_sentences.jsonl', lines=True, orient='records')"
   ]
  },
  {
   "cell_type": "code",
   "execution_count": 37,
   "metadata": {},
   "outputs": [],
   "source": [
    "# Read one last time and confirm that everything is fine\n",
    "new_data_3_clean_with_sentences = pd.read_json('data/ca_test_data_final_clean_with_sentences.jsonl', lines=True)"
   ]
  },
  {
   "cell_type": "code",
   "execution_count": 38,
   "metadata": {},
   "outputs": [
    {
     "data": {
      "text/plain": [
       "['The people of the State of California do enact as follows: <SECTION-HEADER> The Legislature finds and declares all of the following: (1) Since 1899 congressionally chartered veterans’ organizations have provided a valuable service to our nation’s returning service members',\n",
       " 'These organizations help preserve the memories and incidents of the great hostilities fought by our nation, and preserve and strengthen comradeship among members',\n",
       " 'These veterans’ organizations also own and manage various properties including lodges, posts, and fraternal halls',\n",
       " 'These properties act as a safe haven where veterans of all ages and their families can gather together to find camaraderie and fellowship, share stories, and seek support from people who understand their unique experiences',\n",
       " 'This aids in the healing process for these returning veterans, and ensures their health and happiness',\n",
       " 'As a result of congressional chartering of these veterans’ organizations, the United States Internal Revenue Service created a special tax exemption for these organizations under Section 501(c)(19) of the Internal Revenue Code',\n",
       " 'Section 501(c)(19) of the Internal Revenue Code and related federal regulations provide for the exemption for posts or organizations of war veterans, or an auxiliary unit or society of, or a trust or foundation for, any such post or organization that, among other attributes, carries on programs to perpetuate the memory of deceased veterans and members of the Armed Forces and to comfort their survivors, conducts programs for religious, charitable, scientific, literary, or educational purposes, sponsors or participates in activities of a patriotic nature, and provides social and recreational activities for their members',\n",
       " 'Section 215.1 of the Revenue and Taxation Code stipulates that all buildings, support and so much of the real property on which the buildings are situated as may be required for the convenient use and occupation of the buildings, used exclusively for charitable purposes, owned by a veterans’ organization that has been chartered by the Congress of the United States, organized and operated for charitable purposes, when the same are used solely and exclusively for the purpose of the organization, if not conducted for profit and no part of the net earnings of which ensures to the benefit of any private individual or member thereof, are exempt from taxation',\n",
       " 'The Chief Counsel of the State Board of Equalization concluded, based on a 1979 appellate court decision, that only parts of American Legion halls are exempt from property taxation and that other parts, such as billiard rooms, card rooms, and similar areas, are not exempt',\n",
       " 'In a 1994 memorandum, the State Board of Equalization’s legal division further concluded that the areas normally considered eligible for exemptions are the office areas used to counsel veterans and the area used to store veterans’ records, but that the meeting hall and bar found in most of the facilities are not considered used for charitable purposes',\n",
       " 'Tax-exempt status is intended to provide economic incentive and support to veterans’ organizations to provide for the social welfare of the community of current and former military personnel',\n",
       " 'The State Board of Equalization’s constriction of the tax exemption has resulted in an onerous tax burden on California veteran service organizations posts or halls, hinders the posts’ ability to provide facilities for veterans, and threatens the economic viability of many local organizations',\n",
       " 'The charitable activities of a veteran service organizations post or hall are much more than the counseling of veterans',\n",
       " 'The requirements listed for qualification for the federal tax exemption clearly dictate a need for more than just an office',\n",
       " 'Programs to perpetuate the memory of deceased veterans and members of the Armed Forces and to comfort their survivors require the use of facilities for funerals and receptions',\n",
       " 'Programs for religious, charitable, scientific, literary, or educational purposes require space for more than 50 attendees',\n",
       " 'Activities of a patriotic nature need facilities to accommodate hundreds of people',\n",
       " 'Social and recreational activities for members require precisely those areas considered “not used for charitable purposes” by the State Board of Equalization',\n",
       " 'The State Board of Equalization’s interpretation of the Revenue and Taxation Code reflects a lack of understanding of the purpose and programs of the veterans service organizations posts or halls and is detrimental to the good works performed in support of our veteran community',\n",
       " '<SECTION-HEADER><SECTION-HEADER> Section 215.1 of the Revenue and Taxation Code is amended to read: 215.1',\n",
       " 'All buildings, and so much of the real property on which the buildings are situated as may be required for the convenient use and occupation of the buildings, used exclusively for charitable purposes, owned by a veterans’ organization that has been chartered by the Congress of the United States, organized and operated for charitable purposes, and exempt from federal income tax as an organization described in Section 501(c)(19) of the Internal Revenue Code when the same are used solely and exclusively for the purpose of the organization, if not conducted for profit and no part of the net earnings of which inures to the benefit of any private individual or member thereof, shall be exempt from taxation',\n",
       " 'The exemption provided for in this section shall apply to the property of all organizations meeting the requirements of this section, subdivision (b) of Section 4 of Article XIII of the California Constitution, and paragraphs (1) to (4), inclusive, (6), and (7) of subdivision (a) of Section 214',\n",
       " '(1) The exemption specified by subdivision (a) shall not be denied to a property on the basis that the property is used for fraternal, lodge, or social club purposes',\n",
       " 'With regard to this subdivision, the Legislature finds and declares all of the following: The exempt activities of a veterans’ organization as described in subdivision (a) qualitatively differ from the exempt activities of other nonprofit entities that use property for fraternal, lodge, or social club purposes in that the exempt purpose of the veterans’ organization is to conduct programs to perpetuate the memory of deceased veterans and members of the Armed Forces and to comfort their survivors, to conduct programs for religious, charitable, scientific, literary, or educational purposes, to sponsor or participate in activities of a patriotic nature, and to provide social and recreational activities for their members',\n",
       " 'In light of this distinction, the use of real property by a veterans’ organization as described in subdivision (a), for fraternal, lodge, or social club purposes is central to that organization’s exempt purposes and activities',\n",
       " 'In light of the factors set forth in subparagraphs (A) and (B), the use of real property by a veterans’ organization as described in subdivision (a) for fraternal, lodge, or social club purposes, constitutes the exclusive use of that property for a charitable purpose within the meaning of subdivision (b) of Section 4 of Article XIII of the California Constitution',\n",
       " 'The exemption provided for in this section shall not apply to any portion of a property that consists of a bar where alcoholic beverages are served',\n",
       " 'The portion of the property ineligible for the veterans’ organization exemption shall be that area used primarily to prepare and serve alcoholic beverages',\n",
       " 'An organization that files a claim for the exemption provided for in this section shall file with the assessor a valid organizational clearance certificate issued pursuant to Section 254.6',\n",
       " 'This exemption shall be known as the “veterans’ organization exemption.”<SECTION-HEADER><SECTION-HEADER> Notwithstanding Section 2229 of the Revenue and Taxation Code, no appropriation is made by this act and the state shall not reimburse any local agency for any property tax revenues lost by it pursuant to this act',\n",
       " '<SECTION-HEADER><SECTION-HEADER> This act provides for a tax levy within the meaning of Article IV of the Constitution and shall go into immediate effect.']"
      ]
     },
     "execution_count": 38,
     "metadata": {},
     "output_type": "execute_result"
    }
   ],
   "source": [
    "# Example: first row\n",
    "new_data_3_clean_with_sentences.loc[0,\"clean_sentences\"]"
   ]
  },
  {
   "cell_type": "code",
   "execution_count": 39,
   "metadata": {},
   "outputs": [
    {
     "data": {
      "text/plain": [
       "'The people of the State of California do enact as follows:\\n\\n\\nSECTION 1.\\nThe Legislature finds and declares all of the following:\\n(a) (1) Since 1899 congressionally chartered veterans’ organizations have provided a valuable service to our nation’s returning service members. These organizations help preserve the memories and incidents of the great hostilities fought by our nation, and preserve and strengthen comradeship among members.\\n(2) These veterans’ organizations also own and manage various properties including lodges, posts, and fraternal halls. These properties act as a safe haven where veterans of all ages and their families can gather together to find camaraderie and fellowship, share stories, and seek support from people who understand their unique experiences. This aids in the healing process for these returning veterans, and ensures their health and happiness.\\n(b) As a result of congressional chartering of these veterans’ organizations, the United States Internal Revenue Service created a special tax exemption for these organizations under Section 501(c)(19) of the Internal Revenue Code.\\n(c) Section 501(c)(19) of the Internal Revenue Code and related federal regulations provide for the exemption for posts or organizations of war veterans, or an auxiliary unit or society of, or a trust or foundation for, any such post or organization that, among other attributes, carries on programs to perpetuate the memory of deceased veterans and members of the Armed Forces and to comfort their survivors, conducts programs for religious, charitable, scientific, literary, or educational purposes, sponsors or participates in activities of a patriotic nature, and provides social and recreational activities for their members.\\n(d) Section 215.1 of the Revenue and Taxation Code stipulates that all buildings, support and so much of the real property on which the buildings are situated as may be required for the convenient use and occupation of the buildings, used exclusively for charitable purposes, owned by a veterans’ organization that has been chartered by the Congress of the United States, organized and operated for charitable purposes, when the same are used solely and exclusively for the purpose of the organization, if not conducted for profit and no part of the net earnings of which ensures to the benefit of any private individual or member thereof, are exempt from taxation.\\n(e) The Chief Counsel of the State Board of Equalization concluded, based on a 1979 appellate court decision, that only parts of American Legion halls are exempt from property taxation and that other parts, such as billiard rooms, card rooms, and similar areas, are not exempt.\\n(f) In a 1994 memorandum, the State Board of Equalization’s legal division further concluded that the areas normally considered eligible for exemptions are the office areas used to counsel veterans and the area used to store veterans’ records, but that the meeting hall and bar found in most of the facilities are not considered used for charitable purposes.\\n(g) Tax-exempt status is intended to provide economic incentive and support to veterans’ organizations to provide for the social welfare of the community of current and former military personnel.\\n(h) The State Board of Equalization’s constriction of the tax exemption has resulted in an onerous tax burden on California veteran service organizations posts or halls, hinders the posts’ ability to provide facilities for veterans, and threatens the economic viability of many local organizations.\\n(i) The charitable activities of a veteran service organizations post or hall are much more than the counseling of veterans. The requirements listed for qualification for the federal tax exemption clearly dictate a need for more than just an office.\\n(j) Programs to perpetuate the memory of deceased veterans and members of the Armed Forces and to comfort their survivors require the use of facilities for funerals and receptions.\\n(k) Programs for religious, charitable, scientific, literary, or educational purposes require space for more than 50 attendees.\\n(l) Activities of a patriotic nature need facilities to accommodate hundreds of people.\\n(m) Social and recreational activities for members require precisely those areas considered “not used for charitable purposes” by the State Board of Equalization.\\n(n) The State Board of Equalization’s interpretation of the Revenue and Taxation Code reflects a lack of understanding of the purpose and programs of the veterans service organizations posts or halls and is detrimental to the good works performed in support of our veteran community.\\nSECTION 1.\\nSEC. 2.\\nSection 215.1 of the Revenue and Taxation Code is amended to read:\\n215.1.\\n(a) All buildings, and so much of the real property on which the buildings are situated as may be required for the convenient use and occupation of the buildings, used exclusively for charitable purposes, owned by a veterans’ organization that has been chartered by the Congress of the United States, organized and operated for charitable purposes, and exempt from federal income tax as an organization described in Section 501(c)(19) of the Internal Revenue Code when the same are used solely and exclusively for the purpose of the organization, if not conducted for profit and no part of the net earnings of which inures to the benefit of any private individual or member thereof, shall be exempt from taxation.\\n(b) The exemption provided for in this section shall apply to the property of all organizations meeting the requirements of this section, subdivision (b) of Section 4 of Article XIII of the California Constitution, and paragraphs (1) to (4), inclusive, (6), and (7) of subdivision (a) of Section 214.\\n(c) (1) The exemption specified by subdivision (a) shall not be denied to a property on the basis that the property is used for fraternal, lodge, or social club purposes.\\n(2) With regard to this subdivision, the Legislature finds and declares all of the following:\\n(A) The exempt activities of a veterans’ organization as described in subdivision (a) qualitatively differ from the exempt activities of other nonprofit entities that use property for fraternal, lodge, or social club purposes in that the exempt purpose of the veterans’ organization is to conduct programs to perpetuate the memory of deceased veterans and members of the Armed Forces and to comfort their survivors, to conduct programs for religious, charitable, scientific, literary, or educational purposes, to sponsor or participate in activities of a patriotic nature, and to provide social and recreational activities for their members.\\n(B) In light of this distinction, the use of real property by a veterans’ organization as described in subdivision (a), for fraternal, lodge, or social club purposes is central to that organization’s exempt purposes and activities.\\n(C) In light of the factors set forth in subparagraphs (A) and (B), the use of real property by a veterans’ organization as described in subdivision (a) for fraternal, lodge, or social club purposes, constitutes the exclusive use of that property for a charitable purpose within the meaning of subdivision (b) of Section 4 of Article XIII of the California Constitution.\\n(d) The exemption provided for in this section shall not apply to any portion of a property that consists of a bar where alcoholic beverages are served. The portion of the property ineligible for the veterans’ organization exemption shall be that area used primarily to prepare and serve alcoholic beverages.\\n(e) An organization that files a claim for the exemption provided for in this section shall file with the assessor a valid organizational clearance certificate issued pursuant to Section 254.6.\\n(f) This exemption shall be known as the “veterans’ organization exemption.”\\nSEC. 2.\\nSEC. 3.\\nNotwithstanding Section 2229 of the Revenue and Taxation Code, no appropriation is made by this act and the state shall not reimburse any local agency for any property tax revenues lost by it pursuant to this act.\\nSEC. 3.\\nSEC. 4.\\nThis act provides for a tax levy within the meaning of Article IV of the Constitution and shall go into immediate effect.'"
      ]
     },
     "execution_count": 39,
     "metadata": {},
     "output_type": "execute_result"
    }
   ],
   "source": [
    "# A few weird symbols...\n",
    "new_data_3.loc[0,'text']"
   ]
  },
  {
   "cell_type": "markdown",
   "metadata": {},
   "source": [
    "# Baseline measures"
   ]
  },
  {
   "cell_type": "code",
   "execution_count": 50,
   "metadata": {},
   "outputs": [
    {
     "name": "stdout",
     "output_type": "stream",
     "text": [
      "README.md\r\n",
      "ca_test_data_final.jsonl\r\n",
      "ca_test_data_final_clean.jsonl\r\n",
      "ca_test_data_final_clean_with_sentences.jsonl\r\n",
      "us_test_data_final.jsonl\r\n",
      "us_test_data_final_clean.jsonl\r\n",
      "us_test_data_final_clean_with_sentences.jsonl\r\n",
      "us_train_data_final.jsonl\r\n",
      "us_train_data_final_clean.jsonl\r\n",
      "us_train_data_final_clean_with_sentences.jsonl\r\n"
     ]
    }
   ],
   "source": [
    "ls data/"
   ]
  },
  {
   "cell_type": "code",
   "execution_count": 78,
   "metadata": {},
   "outputs": [],
   "source": [
    "#load data\n",
    "data = []\n",
    "with open('data/us_test_data_final_clean_with_sentences.jsonl') as f:\n",
    "    for line in f:\n",
    "        data.append(json.loads(line))\n",
    "df_data = pd.DataFrame(data)"
   ]
  },
  {
   "cell_type": "code",
   "execution_count": 79,
   "metadata": {},
   "outputs": [],
   "source": [
    "# Some basic cleaning in the text (remove extra spaces, --, and \\n)\n",
    "list_text = []\n",
    "for i in range(0,len(df_data)):\n",
    "    text = str(df_data.iloc[i][\"text\"])\n",
    "    text = text.replace('\\n', ' ')\n",
    "    text = re.sub(' +', ' ', text)\n",
    "    text = re.sub('--', ' ', text)\n",
    "    list_text.append(text)\n",
    "\n",
    "df_data2 = df_data\n",
    "df_data2[\"text2\"] = list_text"
   ]
  },
  {
   "cell_type": "markdown",
   "metadata": {},
   "source": [
    "Summary based on k random words"
   ]
  },
  {
   "cell_type": "code",
   "execution_count": 80,
   "metadata": {},
   "outputs": [],
   "source": [
    "def summary_k_random_words(k):\n",
    "    list_summary = [] \n",
    "    for i in range(0,len(df_data2)):\n",
    "        list_inter = []\n",
    "        text = str(df_data2.iloc[i][\"text2\"])\n",
    "        words = text.split()\n",
    "        for t in range(0,k):\n",
    "            list_inter.append(random.choice(words))\n",
    "        summary = ' '.join(list_inter)\n",
    "        list_summary.append(summary)\n",
    "    return list_summary"
   ]
  },
  {
   "cell_type": "code",
   "execution_count": 81,
   "metadata": {},
   "outputs": [],
   "source": [
    "list_summary = summary_k_random_words(100)\n",
    "df_data2[\"summary_100_words\"] = list_summary"
   ]
  },
  {
   "cell_type": "markdown",
   "metadata": {},
   "source": [
    "Summary based on k first sentences in the text"
   ]
  },
  {
   "cell_type": "code",
   "execution_count": 82,
   "metadata": {},
   "outputs": [],
   "source": [
    "def summary_k_first_sentences(k):\n",
    "    list_summary_first_sentences = []\n",
    "    for i in range(0,len(df_data2)):\n",
    "        list_sentences = df_data2.iloc[i][\"clean_sentences\"][1:k+1]\n",
    "        summary = \" \".join(list_sentences)\n",
    "        list_summary_first_sentences.append(summary)\n",
    "    return list_summary_first_sentences"
   ]
  },
  {
   "cell_type": "code",
   "execution_count": 83,
   "metadata": {},
   "outputs": [],
   "source": [
    "list_summary_k_first_sentences = summary_k_first_sentences(10)\n",
    "df_data2[\"summary_10_first_sentences\"] = list_summary_k_first_sentences"
   ]
  },
  {
   "cell_type": "markdown",
   "metadata": {},
   "source": [
    "Summary based on k sentences picked at random"
   ]
  },
  {
   "cell_type": "code",
   "execution_count": 84,
   "metadata": {},
   "outputs": [],
   "source": [
    "def summary_k_sentences_at_random(k):\n",
    "    list_summary_k_random_sentences = []\n",
    "    for i in range(0,len(df_data2)):\n",
    "        test = df_data2.iloc[i][\"clean_sentences\"]\n",
    "        list_random_sentences = []\n",
    "        for i in range(0,k):\n",
    "            list_random_sentences.append(random.choice(test))\n",
    "        list_summary_k_random_sentences.append(\" \".join(list_random_sentences))\n",
    "    return list_summary_k_random_sentences"
   ]
  },
  {
   "cell_type": "code",
   "execution_count": 85,
   "metadata": {},
   "outputs": [],
   "source": [
    "list_summary_k_sentences_at_random = summary_k_sentences_at_random(10)\n",
    "df_data2[\"summary_10_sentences_at_random\"] = list_summary_k_sentences_at_random"
   ]
  },
  {
   "cell_type": "markdown",
   "metadata": {},
   "source": [
    "Summary based on k sentences picked in the text, but keeping the order"
   ]
  },
  {
   "cell_type": "code",
   "execution_count": 86,
   "metadata": {},
   "outputs": [],
   "source": [
    "def summary_k_random_sentences_keep_order(k):\n",
    "    list_summary_k_random_sentences_keep_order = []\n",
    "    for i in range(0,len(df_data2)):\n",
    "        test = df_data2.iloc[i][\"clean_sentences\"]\n",
    "        if len(test)>10:\n",
    "            indices = random.sample(range(len(test)), 10)\n",
    "            list_test = [test[i] for i in sorted(indices)]\n",
    "            list_summary_k_random_sentences_keep_order.append(\" \".join(list_test))\n",
    "        else:\n",
    "            list_summary_k_random_sentences_keep_order.append(\" \".join(test))\n",
    "    return list_summary_k_random_sentences_keep_order"
   ]
  },
  {
   "cell_type": "code",
   "execution_count": 87,
   "metadata": {},
   "outputs": [],
   "source": [
    "list_summary_k_random_sentences_keep_order = summary_k_random_sentences_keep_order(10)\n",
    "df_data2[\"summary_10_sentences_at_random_keep_order\"] = list_summary_k_random_sentences_keep_order"
   ]
  },
  {
   "cell_type": "code",
   "execution_count": 97,
   "metadata": {
    "collapsed": true
   },
   "outputs": [
    {
     "data": {
      "text/html": [
       "<div>\n",
       "<style scoped>\n",
       "    .dataframe tbody tr th:only-of-type {\n",
       "        vertical-align: middle;\n",
       "    }\n",
       "\n",
       "    .dataframe tbody tr th {\n",
       "        vertical-align: top;\n",
       "    }\n",
       "\n",
       "    .dataframe thead th {\n",
       "        text-align: right;\n",
       "    }\n",
       "</style>\n",
       "<table border=\"1\" class=\"dataframe\">\n",
       "  <thead>\n",
       "    <tr style=\"text-align: right;\">\n",
       "      <th></th>\n",
       "      <th>bill_id</th>\n",
       "      <th>summary</th>\n",
       "      <th>text</th>\n",
       "      <th>title</th>\n",
       "      <th>text_len</th>\n",
       "      <th>sum_len</th>\n",
       "      <th>clean_text</th>\n",
       "      <th>clean_summary</th>\n",
       "      <th>clean_title</th>\n",
       "      <th>clean_sentences</th>\n",
       "      <th>text2</th>\n",
       "      <th>summary_100_words</th>\n",
       "      <th>summary_10_first_sentences</th>\n",
       "      <th>summary_10_sentences_at_random</th>\n",
       "      <th>summary_10_sentences_at_random_keep_order</th>\n",
       "    </tr>\n",
       "  </thead>\n",
       "  <tbody>\n",
       "    <tr>\n",
       "      <th>0</th>\n",
       "      <td>114_hr5743</td>\n",
       "      <td>Public Safety Officers' Benefits Improvement A...</td>\n",
       "      <td>SECTION 1. SHORT TITLE.\\n\\n    This Act may be...</td>\n",
       "      <td>Public Safety Officers' Benefits Improvement A...</td>\n",
       "      <td>12792</td>\n",
       "      <td>1827</td>\n",
       "      <td>&lt;SECTION-HEADER&gt; SHORT TITLE. This Act may be ...</td>\n",
       "      <td>Public Safety Officers' Benefits Improvement A...</td>\n",
       "      <td>Public Safety Officers' Benefits Improvement A...</td>\n",
       "      <td>[&lt;SECTION-HEADER&gt; SHORT TITLE, This Act may be...</td>\n",
       "      <td>SECTION 1. SHORT TITLE. This Act may be cited ...</td>\n",
       "      <td>the subparagraph final death number; of of Not...</td>\n",
       "      <td>This Act may be cited as the \"Public Safety Of...</td>\n",
       "      <td>(A) Not later than 180 days after the date of ...</td>\n",
       "      <td>Section 1205 of title I of the Omnibus Crime C...</td>\n",
       "    </tr>\n",
       "    <tr>\n",
       "      <th>1</th>\n",
       "      <td>115_s2620</td>\n",
       "      <td>Federal Cyber Joint Duty Program Act of 2018 T...</td>\n",
       "      <td>SECTION 1. SHORT TITLE.\\n\\n    This Act may be...</td>\n",
       "      <td>Federal Cyber Joint Duty Program Act of 2018</td>\n",
       "      <td>5828</td>\n",
       "      <td>659</td>\n",
       "      <td>&lt;SECTION-HEADER&gt; SHORT TITLE. This Act may be ...</td>\n",
       "      <td>Federal Cyber Joint Duty Program Act of 2018 T...</td>\n",
       "      <td>Federal Cyber Joint Duty Program Act of 2018</td>\n",
       "      <td>[&lt;SECTION-HEADER&gt; SHORT TITLE, This Act may be...</td>\n",
       "      <td>SECTION 1. SHORT TITLE. This Act may be cited ...</td>\n",
       "      <td>The a Joint to may of the it employee agency t...</td>\n",
       "      <td>This Act may be cited as the \"Federal Cyber Jo...</td>\n",
       "      <td>The term \"joint cyber position\" means a positi...</td>\n",
       "      <td>&lt;SECTION-HEADER&gt; DEFINITIONS In this Act: Agen...</td>\n",
       "    </tr>\n",
       "    <tr>\n",
       "      <th>2</th>\n",
       "      <td>106_s3020</td>\n",
       "      <td>Prohibits the FCC, without specific authorizat...</td>\n",
       "      <td>SECTION 1. SHORT TITLE.\\n\\n    This Act may be...</td>\n",
       "      <td>Radio Broadcasting Preservation Act of 2000</td>\n",
       "      <td>5676</td>\n",
       "      <td>879</td>\n",
       "      <td>&lt;SECTION-HEADER&gt; SHORT TITLE. This Act may be ...</td>\n",
       "      <td>Prohibits the FCC, without specific authorizat...</td>\n",
       "      <td>Radio Broadcasting Preservation Act of 2000</td>\n",
       "      <td>[&lt;SECTION-HEADER&gt; SHORT TITLE, This Act may be...</td>\n",
       "      <td>SECTION 1. SHORT TITLE. This Act may be cited ...</td>\n",
       "      <td>tests conclusion 301). rules the TO to to the ...</td>\n",
       "      <td>This Act may be cited as the \"Radio Broadcasti...</td>\n",
       "      <td>Incumbent FM radio broadcasters in general, an...</td>\n",
       "      <td>&lt;SECTION-HEADER&gt; SHORT TITLE Congressional aut...</td>\n",
       "    </tr>\n",
       "    <tr>\n",
       "      <th>3</th>\n",
       "      <td>106_s130</td>\n",
       "      <td>Repeals the Internal Revenue Code's nonrefunda...</td>\n",
       "      <td>SECTION 1. DEPENDENT CARE TAX CREDIT.\\n\\n    (...</td>\n",
       "      <td>A bill to amend the Internal Revenue Code of 1...</td>\n",
       "      <td>17190</td>\n",
       "      <td>615</td>\n",
       "      <td>&lt;SECTION-HEADER&gt; DEPENDENT CARE TAX CREDIT. De...</td>\n",
       "      <td>Repeals the Internal Revenue Code's nonrefunda...</td>\n",
       "      <td>A bill to amend the Internal Revenue Code of 1...</td>\n",
       "      <td>[&lt;SECTION-HEADER&gt; DEPENDENT CARE TAX CREDIT, D...</td>\n",
       "      <td>SECTION 1. DEPENDENT CARE TAX CREDIT. (a) Depe...</td>\n",
       "      <td>section not beginning care the care striking p...</td>\n",
       "      <td>Dependent Care Services Subpart C of part IV o...</td>\n",
       "      <td>Respite Care Expenses \"&lt;SECTION-HEADER&gt; Overpa...</td>\n",
       "      <td>In general In the case of an individual who ma...</td>\n",
       "    </tr>\n",
       "    <tr>\n",
       "      <th>4</th>\n",
       "      <td>103_hr181</td>\n",
       "      <td>Notch Baby Act of 1993 - Amends title II (Old ...</td>\n",
       "      <td>SECTION 1. SHORT TITLE.\\n\\n    This Act may be...</td>\n",
       "      <td>Notch Baby Act of 1993</td>\n",
       "      <td>5649</td>\n",
       "      <td>319</td>\n",
       "      <td>&lt;SECTION-HEADER&gt; SHORT TITLE. This Act may be ...</td>\n",
       "      <td>Notch Baby Act of 1993 - Amends title II of th...</td>\n",
       "      <td>Notch Baby Act of 1993</td>\n",
       "      <td>[&lt;SECTION-HEADER&gt; SHORT TITLE, This Act may be...</td>\n",
       "      <td>SECTION 1. SHORT TITLE. This Act may be cited ...</td>\n",
       "      <td>end eligible becomes which effective in of par...</td>\n",
       "      <td>This Act may be cited as the \"Notch Baby Act o...</td>\n",
       "      <td>&lt;SECTION-HEADER&gt; SHORT TITLE No monthly benefi...</td>\n",
       "      <td>60 percent 1980............... 35 percent 1981...</td>\n",
       "    </tr>\n",
       "    <tr>\n",
       "      <th>...</th>\n",
       "      <td>...</td>\n",
       "      <td>...</td>\n",
       "      <td>...</td>\n",
       "      <td>...</td>\n",
       "      <td>...</td>\n",
       "      <td>...</td>\n",
       "      <td>...</td>\n",
       "      <td>...</td>\n",
       "      <td>...</td>\n",
       "      <td>...</td>\n",
       "      <td>...</td>\n",
       "      <td>...</td>\n",
       "      <td>...</td>\n",
       "      <td>...</td>\n",
       "      <td>...</td>\n",
       "    </tr>\n",
       "    <tr>\n",
       "      <th>5009</th>\n",
       "      <td>115_hr2900</td>\n",
       "      <td>Synthetic Drug Prevention, Treatment, and Educ...</td>\n",
       "      <td>SECTION 1. SHORT TITLE.\\n\\n    This Act may be...</td>\n",
       "      <td>Synthetic Drug Prevention, Treatment, and Educ...</td>\n",
       "      <td>5002</td>\n",
       "      <td>1408</td>\n",
       "      <td>&lt;SECTION-HEADER&gt; SHORT TITLE. This Act may be ...</td>\n",
       "      <td>Synthetic Drug Prevention, Treatment, and Educ...</td>\n",
       "      <td>Synthetic Drug Prevention, Treatment, and Educ...</td>\n",
       "      <td>[&lt;SECTION-HEADER&gt; SHORT TITLE, This Act may be...</td>\n",
       "      <td>SECTION 1. SHORT TITLE. This Act may be cited ...</td>\n",
       "      <td>amount. paragraph, after of term the years wit...</td>\n",
       "      <td>This Act may be cited as the \"Synthetic Drug P...</td>\n",
       "      <td>The Secretary shall make the information in th...</td>\n",
       "      <td>&lt;SECTION-HEADER&gt; SHORT TITLE This Act may be c...</td>\n",
       "    </tr>\n",
       "    <tr>\n",
       "      <th>5010</th>\n",
       "      <td>112_hr2197</td>\n",
       "      <td>Justice for Rape Victims and Improving Use of ...</td>\n",
       "      <td>SECTION 1. SHORT TITLE.\\n\\n    This Act may be...</td>\n",
       "      <td>To amend the Omnibus Crime Control and Safe St...</td>\n",
       "      <td>15025</td>\n",
       "      <td>939</td>\n",
       "      <td>&lt;SECTION-HEADER&gt; SHORT TITLE. This Act may be ...</td>\n",
       "      <td>Justice for Rape Victims and Improving Use of ...</td>\n",
       "      <td>To amend the Omnibus Crime Control and Safe St...</td>\n",
       "      <td>[&lt;SECTION-HEADER&gt; SHORT TITLE, This Act may be...</td>\n",
       "      <td>SECTION 1. SHORT TITLE. This Act may be cited ...</td>\n",
       "      <td>study, or information to reduce or to ``(i) DN...</td>\n",
       "      <td>This Act may be cited as the \"Justice for Rape...</td>\n",
       "      <td>DNA samples that have been received by a publi...</td>\n",
       "      <td>In general Information contained in such datab...</td>\n",
       "    </tr>\n",
       "    <tr>\n",
       "      <th>5011</th>\n",
       "      <td>110_s3132</td>\n",
       "      <td>Accelerating Carbon Capture and Sequestration ...</td>\n",
       "      <td>SECTION 1. SHORT TITLE.\\n\\n    This Act may be...</td>\n",
       "      <td>A bill to amend the Internal Revenue Code of 1...</td>\n",
       "      <td>6990</td>\n",
       "      <td>267</td>\n",
       "      <td>&lt;SECTION-HEADER&gt; SHORT TITLE. This Act may be ...</td>\n",
       "      <td>Accelerating Carbon Capture and Sequestration ...</td>\n",
       "      <td>A bill to amend the Internal Revenue Code of 1...</td>\n",
       "      <td>[&lt;SECTION-HEADER&gt; SHORT TITLE, This Act may be...</td>\n",
       "      <td>SECTION 1. SHORT TITLE. This Act may be cited ...</td>\n",
       "      <td>year States 38(b) (32), 2. natural subsection ...</td>\n",
       "      <td>This Act may be cited as the \"Accelerating Car...</td>\n",
       "      <td>The amendments made by this section shall appl...</td>\n",
       "      <td>General Rule For purposes of this section In g...</td>\n",
       "    </tr>\n",
       "    <tr>\n",
       "      <th>5012</th>\n",
       "      <td>106_s1</td>\n",
       "      <td>Transfers to the Commission: (1) all functions...</td>\n",
       "      <td>SECTION 1. SHORT TITLE.\\n\\n    This Act may be...</td>\n",
       "      <td>Election Reform Act</td>\n",
       "      <td>15003</td>\n",
       "      <td>339</td>\n",
       "      <td>&lt;SECTION-HEADER&gt; SHORT TITLE. This Act may be ...</td>\n",
       "      <td>Transfers to the Commission: (1) all functions...</td>\n",
       "      <td>Election Reform Act</td>\n",
       "      <td>[&lt;SECTION-HEADER&gt; SHORT TITLE, This Act may be...</td>\n",
       "      <td>SECTION 1. SHORT TITLE. This Act may be cited ...</td>\n",
       "      <td>known shall practices employee once duties hav...</td>\n",
       "      <td>This Act may be cited as the \"Election Reform ...</td>\n",
       "      <td>Administrative Support Services Postal Service...</td>\n",
       "      <td>Grant Program Not less often than once each ca...</td>\n",
       "    </tr>\n",
       "    <tr>\n",
       "      <th>5013</th>\n",
       "      <td>107_s1502</td>\n",
       "      <td>COBRA Plus Act of 2001 - Amends the Internal R...</td>\n",
       "      <td>SECTION 1. SHORT TITLE.\\n\\n    This Act may be...</td>\n",
       "      <td>A bill to amend the internal Revenue Code of 1...</td>\n",
       "      <td>18933</td>\n",
       "      <td>704</td>\n",
       "      <td>&lt;SECTION-HEADER&gt; SHORT TITLE. This Act may be ...</td>\n",
       "      <td>COBRA Plus Act of 2001 - Amends the Internal R...</td>\n",
       "      <td>A bill to amend the internal Revenue Code of 1...</td>\n",
       "      <td>[&lt;SECTION-HEADER&gt; SHORT TITLE, This Act may be...</td>\n",
       "      <td>SECTION 1. SHORT TITLE. This Act may be cited ...</td>\n",
       "      <td>health than 34 the of Internal continuation ta...</td>\n",
       "      <td>This Act may be cited as the \"COBRA Plus Act o...</td>\n",
       "      <td>Returns Which Would Be Required To Be Made by ...</td>\n",
       "      <td>Qualified health insurance A payment for insur...</td>\n",
       "    </tr>\n",
       "  </tbody>\n",
       "</table>\n",
       "<p>5014 rows × 15 columns</p>\n",
       "</div>"
      ],
      "text/plain": [
       "         bill_id                                            summary  \\\n",
       "0     114_hr5743  Public Safety Officers' Benefits Improvement A...   \n",
       "1      115_s2620  Federal Cyber Joint Duty Program Act of 2018 T...   \n",
       "2      106_s3020  Prohibits the FCC, without specific authorizat...   \n",
       "3       106_s130  Repeals the Internal Revenue Code's nonrefunda...   \n",
       "4      103_hr181  Notch Baby Act of 1993 - Amends title II (Old ...   \n",
       "...          ...                                                ...   \n",
       "5009  115_hr2900  Synthetic Drug Prevention, Treatment, and Educ...   \n",
       "5010  112_hr2197  Justice for Rape Victims and Improving Use of ...   \n",
       "5011   110_s3132  Accelerating Carbon Capture and Sequestration ...   \n",
       "5012      106_s1  Transfers to the Commission: (1) all functions...   \n",
       "5013   107_s1502  COBRA Plus Act of 2001 - Amends the Internal R...   \n",
       "\n",
       "                                                   text  \\\n",
       "0     SECTION 1. SHORT TITLE.\\n\\n    This Act may be...   \n",
       "1     SECTION 1. SHORT TITLE.\\n\\n    This Act may be...   \n",
       "2     SECTION 1. SHORT TITLE.\\n\\n    This Act may be...   \n",
       "3     SECTION 1. DEPENDENT CARE TAX CREDIT.\\n\\n    (...   \n",
       "4     SECTION 1. SHORT TITLE.\\n\\n    This Act may be...   \n",
       "...                                                 ...   \n",
       "5009  SECTION 1. SHORT TITLE.\\n\\n    This Act may be...   \n",
       "5010  SECTION 1. SHORT TITLE.\\n\\n    This Act may be...   \n",
       "5011  SECTION 1. SHORT TITLE.\\n\\n    This Act may be...   \n",
       "5012  SECTION 1. SHORT TITLE.\\n\\n    This Act may be...   \n",
       "5013  SECTION 1. SHORT TITLE.\\n\\n    This Act may be...   \n",
       "\n",
       "                                                  title  text_len  sum_len  \\\n",
       "0     Public Safety Officers' Benefits Improvement A...     12792     1827   \n",
       "1          Federal Cyber Joint Duty Program Act of 2018      5828      659   \n",
       "2           Radio Broadcasting Preservation Act of 2000      5676      879   \n",
       "3     A bill to amend the Internal Revenue Code of 1...     17190      615   \n",
       "4                                Notch Baby Act of 1993      5649      319   \n",
       "...                                                 ...       ...      ...   \n",
       "5009  Synthetic Drug Prevention, Treatment, and Educ...      5002     1408   \n",
       "5010  To amend the Omnibus Crime Control and Safe St...     15025      939   \n",
       "5011  A bill to amend the Internal Revenue Code of 1...      6990      267   \n",
       "5012                                Election Reform Act     15003      339   \n",
       "5013  A bill to amend the internal Revenue Code of 1...     18933      704   \n",
       "\n",
       "                                             clean_text  \\\n",
       "0     <SECTION-HEADER> SHORT TITLE. This Act may be ...   \n",
       "1     <SECTION-HEADER> SHORT TITLE. This Act may be ...   \n",
       "2     <SECTION-HEADER> SHORT TITLE. This Act may be ...   \n",
       "3     <SECTION-HEADER> DEPENDENT CARE TAX CREDIT. De...   \n",
       "4     <SECTION-HEADER> SHORT TITLE. This Act may be ...   \n",
       "...                                                 ...   \n",
       "5009  <SECTION-HEADER> SHORT TITLE. This Act may be ...   \n",
       "5010  <SECTION-HEADER> SHORT TITLE. This Act may be ...   \n",
       "5011  <SECTION-HEADER> SHORT TITLE. This Act may be ...   \n",
       "5012  <SECTION-HEADER> SHORT TITLE. This Act may be ...   \n",
       "5013  <SECTION-HEADER> SHORT TITLE. This Act may be ...   \n",
       "\n",
       "                                          clean_summary  \\\n",
       "0     Public Safety Officers' Benefits Improvement A...   \n",
       "1     Federal Cyber Joint Duty Program Act of 2018 T...   \n",
       "2     Prohibits the FCC, without specific authorizat...   \n",
       "3     Repeals the Internal Revenue Code's nonrefunda...   \n",
       "4     Notch Baby Act of 1993 - Amends title II of th...   \n",
       "...                                                 ...   \n",
       "5009  Synthetic Drug Prevention, Treatment, and Educ...   \n",
       "5010  Justice for Rape Victims and Improving Use of ...   \n",
       "5011  Accelerating Carbon Capture and Sequestration ...   \n",
       "5012  Transfers to the Commission: (1) all functions...   \n",
       "5013  COBRA Plus Act of 2001 - Amends the Internal R...   \n",
       "\n",
       "                                            clean_title  \\\n",
       "0     Public Safety Officers' Benefits Improvement A...   \n",
       "1          Federal Cyber Joint Duty Program Act of 2018   \n",
       "2           Radio Broadcasting Preservation Act of 2000   \n",
       "3     A bill to amend the Internal Revenue Code of 1...   \n",
       "4                                Notch Baby Act of 1993   \n",
       "...                                                 ...   \n",
       "5009  Synthetic Drug Prevention, Treatment, and Educ...   \n",
       "5010  To amend the Omnibus Crime Control and Safe St...   \n",
       "5011  A bill to amend the Internal Revenue Code of 1...   \n",
       "5012                                Election Reform Act   \n",
       "5013  A bill to amend the internal Revenue Code of 1...   \n",
       "\n",
       "                                        clean_sentences  \\\n",
       "0     [<SECTION-HEADER> SHORT TITLE, This Act may be...   \n",
       "1     [<SECTION-HEADER> SHORT TITLE, This Act may be...   \n",
       "2     [<SECTION-HEADER> SHORT TITLE, This Act may be...   \n",
       "3     [<SECTION-HEADER> DEPENDENT CARE TAX CREDIT, D...   \n",
       "4     [<SECTION-HEADER> SHORT TITLE, This Act may be...   \n",
       "...                                                 ...   \n",
       "5009  [<SECTION-HEADER> SHORT TITLE, This Act may be...   \n",
       "5010  [<SECTION-HEADER> SHORT TITLE, This Act may be...   \n",
       "5011  [<SECTION-HEADER> SHORT TITLE, This Act may be...   \n",
       "5012  [<SECTION-HEADER> SHORT TITLE, This Act may be...   \n",
       "5013  [<SECTION-HEADER> SHORT TITLE, This Act may be...   \n",
       "\n",
       "                                                  text2  \\\n",
       "0     SECTION 1. SHORT TITLE. This Act may be cited ...   \n",
       "1     SECTION 1. SHORT TITLE. This Act may be cited ...   \n",
       "2     SECTION 1. SHORT TITLE. This Act may be cited ...   \n",
       "3     SECTION 1. DEPENDENT CARE TAX CREDIT. (a) Depe...   \n",
       "4     SECTION 1. SHORT TITLE. This Act may be cited ...   \n",
       "...                                                 ...   \n",
       "5009  SECTION 1. SHORT TITLE. This Act may be cited ...   \n",
       "5010  SECTION 1. SHORT TITLE. This Act may be cited ...   \n",
       "5011  SECTION 1. SHORT TITLE. This Act may be cited ...   \n",
       "5012  SECTION 1. SHORT TITLE. This Act may be cited ...   \n",
       "5013  SECTION 1. SHORT TITLE. This Act may be cited ...   \n",
       "\n",
       "                                      summary_100_words  \\\n",
       "0     the subparagraph final death number; of of Not...   \n",
       "1     The a Joint to may of the it employee agency t...   \n",
       "2     tests conclusion 301). rules the TO to to the ...   \n",
       "3     section not beginning care the care striking p...   \n",
       "4     end eligible becomes which effective in of par...   \n",
       "...                                                 ...   \n",
       "5009  amount. paragraph, after of term the years wit...   \n",
       "5010  study, or information to reduce or to ``(i) DN...   \n",
       "5011  year States 38(b) (32), 2. natural subsection ...   \n",
       "5012  known shall practices employee once duties hav...   \n",
       "5013  health than 34 the of Internal continuation ta...   \n",
       "\n",
       "                             summary_10_first_sentences  \\\n",
       "0     This Act may be cited as the \"Public Safety Of...   \n",
       "1     This Act may be cited as the \"Federal Cyber Jo...   \n",
       "2     This Act may be cited as the \"Radio Broadcasti...   \n",
       "3     Dependent Care Services Subpart C of part IV o...   \n",
       "4     This Act may be cited as the \"Notch Baby Act o...   \n",
       "...                                                 ...   \n",
       "5009  This Act may be cited as the \"Synthetic Drug P...   \n",
       "5010  This Act may be cited as the \"Justice for Rape...   \n",
       "5011  This Act may be cited as the \"Accelerating Car...   \n",
       "5012  This Act may be cited as the \"Election Reform ...   \n",
       "5013  This Act may be cited as the \"COBRA Plus Act o...   \n",
       "\n",
       "                         summary_10_sentences_at_random  \\\n",
       "0     (A) Not later than 180 days after the date of ...   \n",
       "1     The term \"joint cyber position\" means a positi...   \n",
       "2     Incumbent FM radio broadcasters in general, an...   \n",
       "3     Respite Care Expenses \"<SECTION-HEADER> Overpa...   \n",
       "4     <SECTION-HEADER> SHORT TITLE No monthly benefi...   \n",
       "...                                                 ...   \n",
       "5009  The Secretary shall make the information in th...   \n",
       "5010  DNA samples that have been received by a publi...   \n",
       "5011  The amendments made by this section shall appl...   \n",
       "5012  Administrative Support Services Postal Service...   \n",
       "5013  Returns Which Would Be Required To Be Made by ...   \n",
       "\n",
       "              summary_10_sentences_at_random_keep_order  \n",
       "0     Section 1205 of title I of the Omnibus Crime C...  \n",
       "1     <SECTION-HEADER> DEFINITIONS In this Act: Agen...  \n",
       "2     <SECTION-HEADER> SHORT TITLE Congressional aut...  \n",
       "3     In general In the case of an individual who ma...  \n",
       "4     60 percent 1980............... 35 percent 1981...  \n",
       "...                                                 ...  \n",
       "5009  <SECTION-HEADER> SHORT TITLE This Act may be c...  \n",
       "5010  In general Information contained in such datab...  \n",
       "5011  General Rule For purposes of this section In g...  \n",
       "5012  Grant Program Not less often than once each ca...  \n",
       "5013  Qualified health insurance A payment for insur...  \n",
       "\n",
       "[5014 rows x 15 columns]"
      ]
     },
     "execution_count": 97,
     "metadata": {},
     "output_type": "execute_result"
    }
   ],
   "source": [
    "df_data2"
   ]
  },
  {
   "cell_type": "markdown",
   "metadata": {},
   "source": [
    "# Evaluation"
   ]
  },
  {
   "cell_type": "code",
   "execution_count": 104,
   "metadata": {},
   "outputs": [
    {
     "name": "stderr",
     "output_type": "stream",
     "text": [
      "[nltk_data] Downloading package wordnet to\n",
      "[nltk_data]     /Users/allisontam/nltk_data...\n",
      "[nltk_data]   Unzipping corpora/wordnet.zip.\n"
     ]
    },
    {
     "data": {
      "text/plain": [
       "True"
      ]
     },
     "execution_count": 104,
     "metadata": {},
     "output_type": "execute_result"
    }
   ],
   "source": [
    "import nltk\n",
    "nltk.download('wordnet')"
   ]
  },
  {
   "cell_type": "code",
   "execution_count": 123,
   "metadata": {},
   "outputs": [],
   "source": [
    "from nltk.stem import WordNetLemmatizer\n",
    "from nltk.corpus import stopwords\n",
    "import string\n",
    "lemmatizer = WordNetLemmatizer()\n",
    "stop = set(stopwords.words('english') + list(string.punctuation))"
   ]
  },
  {
   "cell_type": "code",
   "execution_count": 126,
   "metadata": {},
   "outputs": [],
   "source": [
    "from rouge import Rouge \n",
    "# Run the below command. Assumes we're using conda\n",
    "# pip install --extra-index-url https://pypi.org/project/rouge/ rouge"
   ]
  },
  {
   "cell_type": "code",
   "execution_count": 171,
   "metadata": {
    "collapsed": true
   },
   "outputs": [
    {
     "data": {
      "text/html": [
       "<div>\n",
       "<style scoped>\n",
       "    .dataframe tbody tr th:only-of-type {\n",
       "        vertical-align: middle;\n",
       "    }\n",
       "\n",
       "    .dataframe tbody tr th {\n",
       "        vertical-align: top;\n",
       "    }\n",
       "\n",
       "    .dataframe thead th {\n",
       "        text-align: right;\n",
       "    }\n",
       "</style>\n",
       "<table border=\"1\" class=\"dataframe\">\n",
       "  <thead>\n",
       "    <tr style=\"text-align: right;\">\n",
       "      <th></th>\n",
       "      <th>bill_id</th>\n",
       "      <th>title</th>\n",
       "      <th>clean_summary</th>\n",
       "      <th>summary_100_words</th>\n",
       "      <th>summary_10_first_sentences</th>\n",
       "      <th>summary_10_sentences_at_random</th>\n",
       "      <th>summary_10_sentences_at_random_keep_order</th>\n",
       "    </tr>\n",
       "  </thead>\n",
       "  <tbody>\n",
       "    <tr>\n",
       "      <th>0</th>\n",
       "      <td>114_hr5743</td>\n",
       "      <td>Public Safety Officers' Benefits Improvement A...</td>\n",
       "      <td>Public Safety Officers' Benefits Improvement A...</td>\n",
       "      <td>the subparagraph final death number; of of Not...</td>\n",
       "      <td>This Act may be cited as the \"Public Safety Of...</td>\n",
       "      <td>(A) Not later than 180 days after the date of ...</td>\n",
       "      <td>Section 1205 of title I of the Omnibus Crime C...</td>\n",
       "    </tr>\n",
       "    <tr>\n",
       "      <th>1</th>\n",
       "      <td>115_s2620</td>\n",
       "      <td>Federal Cyber Joint Duty Program Act of 2018</td>\n",
       "      <td>Federal Cyber Joint Duty Program Act of 2018 T...</td>\n",
       "      <td>The a Joint to may of the it employee agency t...</td>\n",
       "      <td>This Act may be cited as the \"Federal Cyber Jo...</td>\n",
       "      <td>The term \"joint cyber position\" means a positi...</td>\n",
       "      <td>&lt;SECTION-HEADER&gt; DEFINITIONS In this Act: Agen...</td>\n",
       "    </tr>\n",
       "    <tr>\n",
       "      <th>2</th>\n",
       "      <td>106_s3020</td>\n",
       "      <td>Radio Broadcasting Preservation Act of 2000</td>\n",
       "      <td>Prohibits the FCC, without specific authorizat...</td>\n",
       "      <td>tests conclusion 301). rules the TO to to the ...</td>\n",
       "      <td>This Act may be cited as the \"Radio Broadcasti...</td>\n",
       "      <td>Incumbent FM radio broadcasters in general, an...</td>\n",
       "      <td>&lt;SECTION-HEADER&gt; SHORT TITLE Congressional aut...</td>\n",
       "    </tr>\n",
       "    <tr>\n",
       "      <th>3</th>\n",
       "      <td>106_s130</td>\n",
       "      <td>A bill to amend the Internal Revenue Code of 1...</td>\n",
       "      <td>Repeals the Internal Revenue Code's nonrefunda...</td>\n",
       "      <td>section not beginning care the care striking p...</td>\n",
       "      <td>Dependent Care Services Subpart C of part IV o...</td>\n",
       "      <td>Respite Care Expenses \"&lt;SECTION-HEADER&gt; Overpa...</td>\n",
       "      <td>In general In the case of an individual who ma...</td>\n",
       "    </tr>\n",
       "    <tr>\n",
       "      <th>4</th>\n",
       "      <td>103_hr181</td>\n",
       "      <td>Notch Baby Act of 1993</td>\n",
       "      <td>Notch Baby Act of 1993 - Amends title II of th...</td>\n",
       "      <td>end eligible becomes which effective in of par...</td>\n",
       "      <td>This Act may be cited as the \"Notch Baby Act o...</td>\n",
       "      <td>&lt;SECTION-HEADER&gt; SHORT TITLE No monthly benefi...</td>\n",
       "      <td>60 percent 1980............... 35 percent 1981...</td>\n",
       "    </tr>\n",
       "    <tr>\n",
       "      <th>...</th>\n",
       "      <td>...</td>\n",
       "      <td>...</td>\n",
       "      <td>...</td>\n",
       "      <td>...</td>\n",
       "      <td>...</td>\n",
       "      <td>...</td>\n",
       "      <td>...</td>\n",
       "    </tr>\n",
       "    <tr>\n",
       "      <th>5009</th>\n",
       "      <td>115_hr2900</td>\n",
       "      <td>Synthetic Drug Prevention, Treatment, and Educ...</td>\n",
       "      <td>Synthetic Drug Prevention, Treatment, and Educ...</td>\n",
       "      <td>amount. paragraph, after of term the years wit...</td>\n",
       "      <td>This Act may be cited as the \"Synthetic Drug P...</td>\n",
       "      <td>The Secretary shall make the information in th...</td>\n",
       "      <td>&lt;SECTION-HEADER&gt; SHORT TITLE This Act may be c...</td>\n",
       "    </tr>\n",
       "    <tr>\n",
       "      <th>5010</th>\n",
       "      <td>112_hr2197</td>\n",
       "      <td>To amend the Omnibus Crime Control and Safe St...</td>\n",
       "      <td>Justice for Rape Victims and Improving Use of ...</td>\n",
       "      <td>study, or information to reduce or to ``(i) DN...</td>\n",
       "      <td>This Act may be cited as the \"Justice for Rape...</td>\n",
       "      <td>DNA samples that have been received by a publi...</td>\n",
       "      <td>In general Information contained in such datab...</td>\n",
       "    </tr>\n",
       "    <tr>\n",
       "      <th>5011</th>\n",
       "      <td>110_s3132</td>\n",
       "      <td>A bill to amend the Internal Revenue Code of 1...</td>\n",
       "      <td>Accelerating Carbon Capture and Sequestration ...</td>\n",
       "      <td>year States 38(b) (32), 2. natural subsection ...</td>\n",
       "      <td>This Act may be cited as the \"Accelerating Car...</td>\n",
       "      <td>The amendments made by this section shall appl...</td>\n",
       "      <td>General Rule For purposes of this section In g...</td>\n",
       "    </tr>\n",
       "    <tr>\n",
       "      <th>5012</th>\n",
       "      <td>106_s1</td>\n",
       "      <td>Election Reform Act</td>\n",
       "      <td>Transfers to the Commission: (1) all functions...</td>\n",
       "      <td>known shall practices employee once duties hav...</td>\n",
       "      <td>This Act may be cited as the \"Election Reform ...</td>\n",
       "      <td>Administrative Support Services Postal Service...</td>\n",
       "      <td>Grant Program Not less often than once each ca...</td>\n",
       "    </tr>\n",
       "    <tr>\n",
       "      <th>5013</th>\n",
       "      <td>107_s1502</td>\n",
       "      <td>A bill to amend the internal Revenue Code of 1...</td>\n",
       "      <td>COBRA Plus Act of 2001 - Amends the Internal R...</td>\n",
       "      <td>health than 34 the of Internal continuation ta...</td>\n",
       "      <td>This Act may be cited as the \"COBRA Plus Act o...</td>\n",
       "      <td>Returns Which Would Be Required To Be Made by ...</td>\n",
       "      <td>Qualified health insurance A payment for insur...</td>\n",
       "    </tr>\n",
       "  </tbody>\n",
       "</table>\n",
       "<p>5014 rows × 7 columns</p>\n",
       "</div>"
      ],
      "text/plain": [
       "         bill_id                                              title  \\\n",
       "0     114_hr5743  Public Safety Officers' Benefits Improvement A...   \n",
       "1      115_s2620       Federal Cyber Joint Duty Program Act of 2018   \n",
       "2      106_s3020        Radio Broadcasting Preservation Act of 2000   \n",
       "3       106_s130  A bill to amend the Internal Revenue Code of 1...   \n",
       "4      103_hr181                             Notch Baby Act of 1993   \n",
       "...          ...                                                ...   \n",
       "5009  115_hr2900  Synthetic Drug Prevention, Treatment, and Educ...   \n",
       "5010  112_hr2197  To amend the Omnibus Crime Control and Safe St...   \n",
       "5011   110_s3132  A bill to amend the Internal Revenue Code of 1...   \n",
       "5012      106_s1                                Election Reform Act   \n",
       "5013   107_s1502  A bill to amend the internal Revenue Code of 1...   \n",
       "\n",
       "                                          clean_summary  \\\n",
       "0     Public Safety Officers' Benefits Improvement A...   \n",
       "1     Federal Cyber Joint Duty Program Act of 2018 T...   \n",
       "2     Prohibits the FCC, without specific authorizat...   \n",
       "3     Repeals the Internal Revenue Code's nonrefunda...   \n",
       "4     Notch Baby Act of 1993 - Amends title II of th...   \n",
       "...                                                 ...   \n",
       "5009  Synthetic Drug Prevention, Treatment, and Educ...   \n",
       "5010  Justice for Rape Victims and Improving Use of ...   \n",
       "5011  Accelerating Carbon Capture and Sequestration ...   \n",
       "5012  Transfers to the Commission: (1) all functions...   \n",
       "5013  COBRA Plus Act of 2001 - Amends the Internal R...   \n",
       "\n",
       "                                      summary_100_words  \\\n",
       "0     the subparagraph final death number; of of Not...   \n",
       "1     The a Joint to may of the it employee agency t...   \n",
       "2     tests conclusion 301). rules the TO to to the ...   \n",
       "3     section not beginning care the care striking p...   \n",
       "4     end eligible becomes which effective in of par...   \n",
       "...                                                 ...   \n",
       "5009  amount. paragraph, after of term the years wit...   \n",
       "5010  study, or information to reduce or to ``(i) DN...   \n",
       "5011  year States 38(b) (32), 2. natural subsection ...   \n",
       "5012  known shall practices employee once duties hav...   \n",
       "5013  health than 34 the of Internal continuation ta...   \n",
       "\n",
       "                             summary_10_first_sentences  \\\n",
       "0     This Act may be cited as the \"Public Safety Of...   \n",
       "1     This Act may be cited as the \"Federal Cyber Jo...   \n",
       "2     This Act may be cited as the \"Radio Broadcasti...   \n",
       "3     Dependent Care Services Subpart C of part IV o...   \n",
       "4     This Act may be cited as the \"Notch Baby Act o...   \n",
       "...                                                 ...   \n",
       "5009  This Act may be cited as the \"Synthetic Drug P...   \n",
       "5010  This Act may be cited as the \"Justice for Rape...   \n",
       "5011  This Act may be cited as the \"Accelerating Car...   \n",
       "5012  This Act may be cited as the \"Election Reform ...   \n",
       "5013  This Act may be cited as the \"COBRA Plus Act o...   \n",
       "\n",
       "                         summary_10_sentences_at_random  \\\n",
       "0     (A) Not later than 180 days after the date of ...   \n",
       "1     The term \"joint cyber position\" means a positi...   \n",
       "2     Incumbent FM radio broadcasters in general, an...   \n",
       "3     Respite Care Expenses \"<SECTION-HEADER> Overpa...   \n",
       "4     <SECTION-HEADER> SHORT TITLE No monthly benefi...   \n",
       "...                                                 ...   \n",
       "5009  The Secretary shall make the information in th...   \n",
       "5010  DNA samples that have been received by a publi...   \n",
       "5011  The amendments made by this section shall appl...   \n",
       "5012  Administrative Support Services Postal Service...   \n",
       "5013  Returns Which Would Be Required To Be Made by ...   \n",
       "\n",
       "              summary_10_sentences_at_random_keep_order  \n",
       "0     Section 1205 of title I of the Omnibus Crime C...  \n",
       "1     <SECTION-HEADER> DEFINITIONS In this Act: Agen...  \n",
       "2     <SECTION-HEADER> SHORT TITLE Congressional aut...  \n",
       "3     In general In the case of an individual who ma...  \n",
       "4     60 percent 1980............... 35 percent 1981...  \n",
       "...                                                 ...  \n",
       "5009  <SECTION-HEADER> SHORT TITLE This Act may be c...  \n",
       "5010  In general Information contained in such datab...  \n",
       "5011  General Rule For purposes of this section In g...  \n",
       "5012  Grant Program Not less often than once each ca...  \n",
       "5013  Qualified health insurance A payment for insur...  \n",
       "\n",
       "[5014 rows x 7 columns]"
      ]
     },
     "execution_count": 171,
     "metadata": {},
     "output_type": "execute_result"
    }
   ],
   "source": [
    "res = df_data2[['bill_id','title','clean_summary', 'summary_100_words',\n",
    "                'summary_10_first_sentences', 'summary_10_sentences_at_random',\n",
    "                'summary_10_sentences_at_random_keep_order']]\n",
    "res"
   ]
  },
  {
   "cell_type": "code",
   "execution_count": 177,
   "metadata": {},
   "outputs": [],
   "source": [
    "def cleaner(text):\n",
    "    clean = [lemmatizer.lemmatize(word).lower() for word in text.split(' ') if word not in stop]\n",
    "    return ' '.join(clean)\n",
    "    \n",
    "def prep_dataset(df, baselines):\n",
    "    '''\n",
    "    Removes stopwords and applies lemmatizer to summaries before evaluation\n",
    "    '''\n",
    "    for i, row in df.iterrows():\n",
    "        truth = row['clean_summary']\n",
    "        # Removes title from clean_summary if it exists\n",
    "        if row['title'] == truth[:len(row['title'])]:\n",
    "            df.at[i,'clean_summary'] = truth[len(row['title']):]\n",
    "    for col in baselines:\n",
    "        df[col] = df[col].apply(cleaner)\n",
    "    cols = ['bill_id', 'clean_summary']\n",
    "    cols.extend(baselines)\n",
    "    return df[cols]\n",
    "\n",
    "def clean_rouge(df, metric='f'):\n",
    "    rouge = Rouge()\n",
    "    baselines = ['summary_100_words',\n",
    "        'summary_10_first_sentences', 'summary_10_sentences_at_random',\n",
    "        'summary_10_sentences_at_random_keep_order']\n",
    "    df = prep_dataset(df.copy(), baselines)\n",
    "    ret = {'bill_id': list(df['bill_id'])}\n",
    "    truth = list(df['clean_summary'])\n",
    "    \n",
    "    for summary_type in baselines:\n",
    "        scores = rouge.get_scores(list(df[summary_type]), truth)\n",
    "        ret[summary_type+\"_R1\"] = [score['rouge-1'][metric] for score in scores]\n",
    "        ret[summary_type+\"_R2\"] = [score['rouge-2'][metric] for score in scores]\n",
    "        ret[summary_type+\"_RL\"] = [score['rouge-l'][metric] for score in scores]\n",
    "    return ret"
   ]
  },
  {
   "cell_type": "code",
   "execution_count": 178,
   "metadata": {},
   "outputs": [
    {
     "data": {
      "text/html": [
       "<div>\n",
       "<style scoped>\n",
       "    .dataframe tbody tr th:only-of-type {\n",
       "        vertical-align: middle;\n",
       "    }\n",
       "\n",
       "    .dataframe tbody tr th {\n",
       "        vertical-align: top;\n",
       "    }\n",
       "\n",
       "    .dataframe thead th {\n",
       "        text-align: right;\n",
       "    }\n",
       "</style>\n",
       "<table border=\"1\" class=\"dataframe\">\n",
       "  <thead>\n",
       "    <tr style=\"text-align: right;\">\n",
       "      <th></th>\n",
       "      <th>bill_id</th>\n",
       "      <th>summary_100_words_R1</th>\n",
       "      <th>summary_100_words_R2</th>\n",
       "      <th>summary_100_words_RL</th>\n",
       "      <th>summary_10_first_sentences_R1</th>\n",
       "      <th>summary_10_first_sentences_R2</th>\n",
       "      <th>summary_10_first_sentences_RL</th>\n",
       "      <th>summary_10_sentences_at_random_R1</th>\n",
       "      <th>summary_10_sentences_at_random_R2</th>\n",
       "      <th>summary_10_sentences_at_random_RL</th>\n",
       "      <th>summary_10_sentences_at_random_keep_order_R1</th>\n",
       "      <th>summary_10_sentences_at_random_keep_order_R2</th>\n",
       "      <th>summary_10_sentences_at_random_keep_order_RL</th>\n",
       "    </tr>\n",
       "  </thead>\n",
       "  <tbody>\n",
       "    <tr>\n",
       "      <th>0</th>\n",
       "      <td>114_hr5743</td>\n",
       "      <td>0.142857</td>\n",
       "      <td>0.000000</td>\n",
       "      <td>0.088143</td>\n",
       "      <td>0.285714</td>\n",
       "      <td>0.050761</td>\n",
       "      <td>0.262683</td>\n",
       "      <td>0.278884</td>\n",
       "      <td>0.043478</td>\n",
       "      <td>0.258641</td>\n",
       "      <td>0.196970</td>\n",
       "      <td>0.021164</td>\n",
       "      <td>0.188853</td>\n",
       "    </tr>\n",
       "    <tr>\n",
       "      <th>1</th>\n",
       "      <td>115_s2620</td>\n",
       "      <td>0.222222</td>\n",
       "      <td>0.033058</td>\n",
       "      <td>0.200000</td>\n",
       "      <td>0.183673</td>\n",
       "      <td>0.015873</td>\n",
       "      <td>0.140990</td>\n",
       "      <td>0.282828</td>\n",
       "      <td>0.089552</td>\n",
       "      <td>0.258390</td>\n",
       "      <td>0.211538</td>\n",
       "      <td>0.061069</td>\n",
       "      <td>0.129988</td>\n",
       "    </tr>\n",
       "    <tr>\n",
       "      <th>2</th>\n",
       "      <td>106_s3020</td>\n",
       "      <td>0.244604</td>\n",
       "      <td>0.000000</td>\n",
       "      <td>0.188338</td>\n",
       "      <td>0.254777</td>\n",
       "      <td>0.029268</td>\n",
       "      <td>0.159981</td>\n",
       "      <td>0.235294</td>\n",
       "      <td>0.035714</td>\n",
       "      <td>0.187407</td>\n",
       "      <td>0.322581</td>\n",
       "      <td>0.042735</td>\n",
       "      <td>0.224976</td>\n",
       "    </tr>\n",
       "    <tr>\n",
       "      <th>3</th>\n",
       "      <td>106_s130</td>\n",
       "      <td>0.162162</td>\n",
       "      <td>0.000000</td>\n",
       "      <td>0.159068</td>\n",
       "      <td>0.271429</td>\n",
       "      <td>0.081395</td>\n",
       "      <td>0.221372</td>\n",
       "      <td>0.188406</td>\n",
       "      <td>0.022099</td>\n",
       "      <td>0.169419</td>\n",
       "      <td>0.150376</td>\n",
       "      <td>0.011976</td>\n",
       "      <td>0.118688</td>\n",
       "    </tr>\n",
       "    <tr>\n",
       "      <th>4</th>\n",
       "      <td>103_hr181</td>\n",
       "      <td>0.098765</td>\n",
       "      <td>0.000000</td>\n",
       "      <td>0.070532</td>\n",
       "      <td>0.137405</td>\n",
       "      <td>0.025316</td>\n",
       "      <td>0.077686</td>\n",
       "      <td>0.142857</td>\n",
       "      <td>0.024096</td>\n",
       "      <td>0.082324</td>\n",
       "      <td>0.141593</td>\n",
       "      <td>0.028369</td>\n",
       "      <td>0.111161</td>\n",
       "    </tr>\n",
       "    <tr>\n",
       "      <th>...</th>\n",
       "      <td>...</td>\n",
       "      <td>...</td>\n",
       "      <td>...</td>\n",
       "      <td>...</td>\n",
       "      <td>...</td>\n",
       "      <td>...</td>\n",
       "      <td>...</td>\n",
       "      <td>...</td>\n",
       "      <td>...</td>\n",
       "      <td>...</td>\n",
       "      <td>...</td>\n",
       "      <td>...</td>\n",
       "      <td>...</td>\n",
       "    </tr>\n",
       "    <tr>\n",
       "      <th>5009</th>\n",
       "      <td>115_hr2900</td>\n",
       "      <td>0.200000</td>\n",
       "      <td>0.000000</td>\n",
       "      <td>0.162300</td>\n",
       "      <td>0.212290</td>\n",
       "      <td>0.016194</td>\n",
       "      <td>0.143425</td>\n",
       "      <td>0.196319</td>\n",
       "      <td>0.017167</td>\n",
       "      <td>0.132435</td>\n",
       "      <td>0.111888</td>\n",
       "      <td>0.019704</td>\n",
       "      <td>0.078163</td>\n",
       "    </tr>\n",
       "    <tr>\n",
       "      <th>5010</th>\n",
       "      <td>112_hr2197</td>\n",
       "      <td>0.116883</td>\n",
       "      <td>0.000000</td>\n",
       "      <td>0.087255</td>\n",
       "      <td>0.300469</td>\n",
       "      <td>0.071429</td>\n",
       "      <td>0.261977</td>\n",
       "      <td>0.159624</td>\n",
       "      <td>0.013889</td>\n",
       "      <td>0.102920</td>\n",
       "      <td>0.169492</td>\n",
       "      <td>0.024000</td>\n",
       "      <td>0.118887</td>\n",
       "    </tr>\n",
       "    <tr>\n",
       "      <th>5011</th>\n",
       "      <td>110_s3132</td>\n",
       "      <td>0.089888</td>\n",
       "      <td>0.000000</td>\n",
       "      <td>0.083976</td>\n",
       "      <td>0.262295</td>\n",
       "      <td>0.054422</td>\n",
       "      <td>0.140047</td>\n",
       "      <td>0.164948</td>\n",
       "      <td>0.031250</td>\n",
       "      <td>0.128342</td>\n",
       "      <td>0.115942</td>\n",
       "      <td>0.012048</td>\n",
       "      <td>0.052804</td>\n",
       "    </tr>\n",
       "    <tr>\n",
       "      <th>5012</th>\n",
       "      <td>106_s1</td>\n",
       "      <td>0.069767</td>\n",
       "      <td>0.000000</td>\n",
       "      <td>0.062135</td>\n",
       "      <td>0.085470</td>\n",
       "      <td>0.000000</td>\n",
       "      <td>0.038255</td>\n",
       "      <td>0.034188</td>\n",
       "      <td>0.000000</td>\n",
       "      <td>0.025503</td>\n",
       "      <td>0.017699</td>\n",
       "      <td>0.000000</td>\n",
       "      <td>0.013444</td>\n",
       "    </tr>\n",
       "    <tr>\n",
       "      <th>5013</th>\n",
       "      <td>107_s1502</td>\n",
       "      <td>0.169231</td>\n",
       "      <td>0.000000</td>\n",
       "      <td>0.149388</td>\n",
       "      <td>0.183206</td>\n",
       "      <td>0.023529</td>\n",
       "      <td>0.148820</td>\n",
       "      <td>0.192308</td>\n",
       "      <td>0.037209</td>\n",
       "      <td>0.152597</td>\n",
       "      <td>0.156863</td>\n",
       "      <td>0.040201</td>\n",
       "      <td>0.156210</td>\n",
       "    </tr>\n",
       "  </tbody>\n",
       "</table>\n",
       "<p>5014 rows × 13 columns</p>\n",
       "</div>"
      ],
      "text/plain": [
       "         bill_id  summary_100_words_R1  summary_100_words_R2  \\\n",
       "0     114_hr5743              0.142857              0.000000   \n",
       "1      115_s2620              0.222222              0.033058   \n",
       "2      106_s3020              0.244604              0.000000   \n",
       "3       106_s130              0.162162              0.000000   \n",
       "4      103_hr181              0.098765              0.000000   \n",
       "...          ...                   ...                   ...   \n",
       "5009  115_hr2900              0.200000              0.000000   \n",
       "5010  112_hr2197              0.116883              0.000000   \n",
       "5011   110_s3132              0.089888              0.000000   \n",
       "5012      106_s1              0.069767              0.000000   \n",
       "5013   107_s1502              0.169231              0.000000   \n",
       "\n",
       "      summary_100_words_RL  summary_10_first_sentences_R1  \\\n",
       "0                 0.088143                       0.285714   \n",
       "1                 0.200000                       0.183673   \n",
       "2                 0.188338                       0.254777   \n",
       "3                 0.159068                       0.271429   \n",
       "4                 0.070532                       0.137405   \n",
       "...                    ...                            ...   \n",
       "5009              0.162300                       0.212290   \n",
       "5010              0.087255                       0.300469   \n",
       "5011              0.083976                       0.262295   \n",
       "5012              0.062135                       0.085470   \n",
       "5013              0.149388                       0.183206   \n",
       "\n",
       "      summary_10_first_sentences_R2  summary_10_first_sentences_RL  \\\n",
       "0                          0.050761                       0.262683   \n",
       "1                          0.015873                       0.140990   \n",
       "2                          0.029268                       0.159981   \n",
       "3                          0.081395                       0.221372   \n",
       "4                          0.025316                       0.077686   \n",
       "...                             ...                            ...   \n",
       "5009                       0.016194                       0.143425   \n",
       "5010                       0.071429                       0.261977   \n",
       "5011                       0.054422                       0.140047   \n",
       "5012                       0.000000                       0.038255   \n",
       "5013                       0.023529                       0.148820   \n",
       "\n",
       "      summary_10_sentences_at_random_R1  summary_10_sentences_at_random_R2  \\\n",
       "0                              0.278884                           0.043478   \n",
       "1                              0.282828                           0.089552   \n",
       "2                              0.235294                           0.035714   \n",
       "3                              0.188406                           0.022099   \n",
       "4                              0.142857                           0.024096   \n",
       "...                                 ...                                ...   \n",
       "5009                           0.196319                           0.017167   \n",
       "5010                           0.159624                           0.013889   \n",
       "5011                           0.164948                           0.031250   \n",
       "5012                           0.034188                           0.000000   \n",
       "5013                           0.192308                           0.037209   \n",
       "\n",
       "      summary_10_sentences_at_random_RL  \\\n",
       "0                              0.258641   \n",
       "1                              0.258390   \n",
       "2                              0.187407   \n",
       "3                              0.169419   \n",
       "4                              0.082324   \n",
       "...                                 ...   \n",
       "5009                           0.132435   \n",
       "5010                           0.102920   \n",
       "5011                           0.128342   \n",
       "5012                           0.025503   \n",
       "5013                           0.152597   \n",
       "\n",
       "      summary_10_sentences_at_random_keep_order_R1  \\\n",
       "0                                         0.196970   \n",
       "1                                         0.211538   \n",
       "2                                         0.322581   \n",
       "3                                         0.150376   \n",
       "4                                         0.141593   \n",
       "...                                            ...   \n",
       "5009                                      0.111888   \n",
       "5010                                      0.169492   \n",
       "5011                                      0.115942   \n",
       "5012                                      0.017699   \n",
       "5013                                      0.156863   \n",
       "\n",
       "      summary_10_sentences_at_random_keep_order_R2  \\\n",
       "0                                         0.021164   \n",
       "1                                         0.061069   \n",
       "2                                         0.042735   \n",
       "3                                         0.011976   \n",
       "4                                         0.028369   \n",
       "...                                            ...   \n",
       "5009                                      0.019704   \n",
       "5010                                      0.024000   \n",
       "5011                                      0.012048   \n",
       "5012                                      0.000000   \n",
       "5013                                      0.040201   \n",
       "\n",
       "      summary_10_sentences_at_random_keep_order_RL  \n",
       "0                                         0.188853  \n",
       "1                                         0.129988  \n",
       "2                                         0.224976  \n",
       "3                                         0.118688  \n",
       "4                                         0.111161  \n",
       "...                                            ...  \n",
       "5009                                      0.078163  \n",
       "5010                                      0.118887  \n",
       "5011                                      0.052804  \n",
       "5012                                      0.013444  \n",
       "5013                                      0.156210  \n",
       "\n",
       "[5014 rows x 13 columns]"
      ]
     },
     "execution_count": 178,
     "metadata": {},
     "output_type": "execute_result"
    }
   ],
   "source": [
    "metrics = clean_rouge(res)\n",
    "pd.DataFrame(metrics)"
   ]
  },
  {
   "cell_type": "code",
   "execution_count": 180,
   "metadata": {},
   "outputs": [],
   "source": [
    "metrics = pd.DataFrame(metrics)\n",
    "metrics.to_csv('results/us_test_results.csv')"
   ]
  },
  {
   "cell_type": "markdown",
   "metadata": {},
   "source": [
    "# Visualizations"
   ]
  },
  {
   "cell_type": "code",
   "execution_count": 182,
   "metadata": {},
   "outputs": [],
   "source": [
    "import matplotlib.pyplot as plt"
   ]
  },
  {
   "cell_type": "code",
   "execution_count": null,
   "metadata": {},
   "outputs": [],
   "source": [
    "baselines = ['summary_100_words',\n",
    "    'summary_10_first_sentences', 'summary_10_sentences_at_random',\n",
    "    'summary_10_sentences_at_random_keep_order']"
   ]
  },
  {
   "cell_type": "code",
   "execution_count": 189,
   "metadata": {},
   "outputs": [
    {
     "data": {
      "text/plain": [
       "['summary_100_words_R1',\n",
       " 'summary_100_words_R2',\n",
       " 'summary_100_words_RL',\n",
       " 'summary_10_first_sentences_R1',\n",
       " 'summary_10_first_sentences_R2',\n",
       " 'summary_10_first_sentences_RL',\n",
       " 'summary_10_sentences_at_random_R1',\n",
       " 'summary_10_sentences_at_random_R2',\n",
       " 'summary_10_sentences_at_random_RL',\n",
       " 'summary_10_sentences_at_random_keep_order_R1',\n",
       " 'summary_10_sentences_at_random_keep_order_R2',\n",
       " 'summary_10_sentences_at_random_keep_order_RL']"
      ]
     },
     "execution_count": 189,
     "metadata": {},
     "output_type": "execute_result"
    }
   ],
   "source": [
    "plot = metrics.drop('bill_id',axis=1)\n",
    "labels = plot.columns\n",
    "list(labels)"
   ]
  },
  {
   "cell_type": "code",
   "execution_count": 193,
   "metadata": {},
   "outputs": [
    {
     "data": {
      "text/plain": [
       "Text(0.5, 1.0, 'Overall Summary')"
      ]
     },
     "execution_count": 193,
     "metadata": {},
     "output_type": "execute_result"
    },
    {
     "data": {
      "image/png": "[encoded data removed]",
      "text/plain": [
       "<Figure size 432x288 with 1 Axes>"
      ]
     },
     "metadata": {
      "needs_background": "light"
     },
     "output_type": "display_data"
    }
   ],
   "source": [
    "plt.boxplot(plot.to_numpy(),labels=list(labels),vert=False)\n",
    "plt.title('Overall Summary')"
   ]
  },
  {
   "cell_type": "code",
   "execution_count": 194,
   "metadata": {},
   "outputs": [
    {
     "data": {
      "text/plain": [
       "Text(0.5, 1.0, 'Rouge-L metric')"
      ]
     },
     "execution_count": 194,
     "metadata": {},
     "output_type": "execute_result"
    },
    {
     "data": {
      "image/png": "[encoded data removed]",
      "text/plain": [
       "<Figure size 432x288 with 1 Axes>"
      ]
     },
     "metadata": {
      "needs_background": "light"
     },
     "output_type": "display_data"
    }
   ],
   "source": [
    "plot2 = metrics[['summary_100_words_RL', 'summary_10_first_sentences_RL',\n",
    "                 'summary_10_sentences_at_random_RL','summary_10_sentences_at_random_keep_order_RL']]\n",
    "plt.boxplot(plot2.to_numpy(),labels=list(plot2.columns),vert=False)\n",
    "plt.title('Rouge-L metric')"
   ]
  },
  {
   "cell_type": "code",
   "execution_count": 196,
   "metadata": {},
   "outputs": [
    {
     "data": {
      "text/plain": [
       "summary_100_words_RL                            0.107694\n",
       "summary_10_first_sentences_RL                   0.136873\n",
       "summary_10_sentences_at_random_RL               0.146877\n",
       "summary_10_sentences_at_random_keep_order_RL    0.148610\n",
       "dtype: float64"
      ]
     },
     "execution_count": 196,
     "metadata": {},
     "output_type": "execute_result"
    }
   ],
   "source": [
    "plot2.mean()"
   ]
  },
  {
   "cell_type": "code",
   "execution_count": null,
   "metadata": {},
   "outputs": [],
   "source": []
  }
 ],
 "metadata": {
  "kernelspec": {
   "display_name": "Python [conda env:bills] *",
   "language": "python",
   "name": "conda-env-bills-py"
  },
  "language_info": {
   "codemirror_mode": {
    "name": "ipython",
    "version": 3
   },
   "file_extension": ".py",
   "mimetype": "text/x-python",
   "name": "python",
   "nbconvert_exporter": "python",
   "pygments_lexer": "ipython3",
   "version": "3.7.5"
  }
 },
 "nbformat": 4,
 "nbformat_minor": 2
}
